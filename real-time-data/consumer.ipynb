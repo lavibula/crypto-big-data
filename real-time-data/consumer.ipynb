{
 "cells": [
  {
   "cell_type": "code",
   "execution_count": 6,
   "metadata": {},
   "outputs": [],
   "source": [
    "import os\n",
    "\n",
    "os.chdir(\"/Users/ibulmnie/Documents/20241/BigData/crypto-big-data/\")"
   ]
  },
  {
   "cell_type": "code",
   "execution_count": 7,
   "metadata": {},
   "outputs": [],
   "source": [
    "import findspark\n",
    "findspark.init()\n",
    "\n",
    "import pyspark\n",
    "from pyspark.sql import SparkSession\n",
    "from pyspark.sql.types import StructType, StructField, StringType, FloatType\n",
    "from pyspark.sql.functions import col, from_json, to_date, avg, lit, to_timestamp\n",
    "from pyspark.sql.window import Window\n",
    "import time\n",
    "import shutil\n",
    "from pyspark.sql.functions import current_timestamp, col, unix_timestamp\n",
    "\n",
    "from datetime import datetime, timedelta\n",
    "\n",
    "\n",
    "import os\n",
    "\n",
    "gcs_jar_path = os.path.abspath(\"config/gcs-connector-hadoop3-latest.jar\")\n",
    "from pyspark.sql import SparkSession\n",
    "\n",
    "# Khởi tạo SparkSession\n",
    "spark = SparkSession.builder \\\n",
    "    .appName(\"hehee\") \\\n",
    "    .config(\"spark.hadoop.fs.gs.impl\", \"com.google.cloud.hadoop.fs.gcs.GoogleHadoopFileSystem\")\\\n",
    "    .config(\"spark.hadoop.fs.AbstractFileSystem.gs.impl\", \"com.google.cloud.hadoop.fs.gcs.GoogleHadoopFS\")\\\n",
    "    .config(\"spark.hadoop.fs.gs.auth.service.account.enable\", \"true\")\\\n",
    "    .config(\"spark.hadoop.fs.gs.auth.service.account.json.keyfile\", \"config/key/btcanalysishust-495a3a227f22.json\") \\\n",
    "    .config(\"spark.jars\", gcs_jar_path) \\\n",
    "    .config(\"spark.jars.packages\", \n",
    "            \"org.apache.spark:spark-sql-kafka-0-10_2.12:3.3.0,io.delta:delta-core_2.12:2.2.0\") \\\n",
    "    .config(\"spark.hadoop.fs.gs.project.id\", \"btcanalysishust\")\\\n",
    "    .getOrCreate()\n"
   ]
  },
  {
   "cell_type": "code",
   "execution_count": 8,
   "metadata": {},
   "outputs": [],
   "source": [
    "from pyspark.sql import functions as F\n",
    "from pyspark.sql.window import Window\n",
    "from pyspark.sql.types import StructType, StructField, StringType, FloatType, TimestampType"
   ]
  },
  {
   "cell_type": "code",
   "execution_count": 9,
   "metadata": {},
   "outputs": [],
   "source": [
    "# from concurrent.futures import ThreadPoolExecutor, as_completed\n",
    "# import subprocess\n",
    "# import os\n",
    "# from pyspark.sql import functions as F\n",
    "# from pyspark.sql.types import StructType, StructField, StringType, FloatType, DoubleType, IntegerType, LongType\n",
    "\n",
    "# # Schema của dữ liệu Kafka\n",
    "# schema = StructType([\n",
    "#     StructField(\"timestamp\", StringType()),\n",
    "#     StructField(\"prices\", StructType([\n",
    "#         StructField(\"bitcoin\", FloatType()),\n",
    "#         StructField(\"ethereum\", FloatType()),\n",
    "#         StructField(\"tether\", FloatType()),\n",
    "#         StructField(\"usd-coin\", FloatType()),\n",
    "#         StructField(\"ripple\", FloatType()),\n",
    "#         StructField(\"cardano\", FloatType()),\n",
    "#         StructField(\"dogecoin\", FloatType()),\n",
    "#         StructField(\"matic-network\", FloatType()),\n",
    "#         StructField(\"solana\", FloatType()),\n",
    "#         StructField(\"litecoin\", FloatType()),\n",
    "#         StructField(\"polkadot\", FloatType()),\n",
    "#         StructField(\"shiba-inu\", FloatType()),\n",
    "#         StructField(\"tron\", FloatType()),\n",
    "#         StructField(\"cosmos\", FloatType()),\n",
    "#         StructField(\"chainlink\", FloatType()),\n",
    "#         StructField(\"stellar\", FloatType()),\n",
    "#         StructField(\"near\", FloatType()),\n",
    "#     ]))\n",
    "# ])\n",
    "\n",
    "# # Đọc dữ liệu từ Kafka\n",
    "# kafka_df = spark.readStream \\\n",
    "#     .format(\"kafka\") \\\n",
    "#     .option(\"kafka.bootstrap.servers\", \"35.206.252.44:9092\") \\\n",
    "#     .option(\"subscribe\", \"crypto-pricessss\") \\\n",
    "#     .option(\"startingOffsets\", \"latest\") \\\n",
    "#     .option(\"maxOffsetsPerTrigger\", 1000) \\\n",
    "#     .load()\n",
    "\n",
    "# parsed_df = kafka_df.selectExpr(\"CAST(value AS STRING)\") \\\n",
    "#     .select(F.from_json(F.col(\"value\"), schema).alias(\"data\"))\n",
    "\n",
    "# crypto_parsed_df = parsed_df.select(\n",
    "#     F.to_timestamp(F.col(\"data.timestamp\"), \"yyyy-MM-dd'T'HH:mm:ss.SSSSSSXXX\").alias(\"DATE\"),\n",
    "#     F.col(\"data.prices.bitcoin\").alias(\"BTC\"),\n",
    "#     F.col(\"data.prices.ethereum\").alias(\"ETH\"),\n",
    "#     F.col(\"data.prices.tether\").alias(\"USDT\"),\n",
    "#     F.col(\"data.prices.usd-coin\").alias(\"USDC\"),\n",
    "#     F.col(\"data.prices.ripple\").alias(\"XRP\"),\n",
    "#     F.col(\"data.prices.cardano\").alias(\"ADA\"),\n",
    "#     F.col(\"data.prices.dogecoin\").alias(\"DOGE\"),\n",
    "#     F.col(\"data.prices.matic-network\").alias(\"MATIC\"),\n",
    "#     F.col(\"data.prices.solana\").alias(\"SOL\")\n",
    "# )\n",
    "\n",
    "# column_names = [col for col in crypto_parsed_df.columns if col != 'DATE']\n",
    "\n",
    "# historical_schema = StructType([\n",
    "#     StructField(\"BASE\", StringType(), True),  \n",
    "#     StructField(\"DATE\", StringType(), True),\n",
    "#     StructField(\"OPEN\", DoubleType(), True),\n",
    "#     StructField(\"HIGH\", DoubleType(), True),\n",
    "#     StructField(\"LOW\", DoubleType(), True),\n",
    "#     StructField(\"CLOSE\", DoubleType(), True),\n",
    "#     StructField(\"VOLUME\", DoubleType(), True),\n",
    "#     StructField(\"YEAR\", IntegerType(), True),\n",
    "#     StructField(\"MONTH\", IntegerType(), True),\n",
    "#     StructField(\"__index_level_0__\", LongType(), True)\n",
    "# ])\n",
    "\n",
    "\n",
    "# def read_historical_data(coin):\n",
    "#     return (\n",
    "#         spark.read.schema(historical_schema).format(\"parquet\")\n",
    "#         .load(f\"gs://crypto-historical-data-2/ver2/{coin}/2024/*\")\n",
    "#         .select(F.col(\"DATE\").cast(\"timestamp\"), \"CLOSE\")\n",
    "#     )\n",
    "\n",
    "# def process_coin(coin, micro_batch_latest_df):\n",
    "#     historical_data_df = read_historical_data(coin)\n",
    "#     micro_batch = micro_batch_latest_df.select(\"DATE\", coin).withColumnRenamed(coin, \"CLOSE\")\n",
    "#     combined_df = micro_batch.unionByName(historical_data_df)\n",
    "\n",
    "#     window_spec = Window.orderBy(\"DATE\").rowsBetween(Window.unboundedPreceding, 0)\n",
    "#     combined_df = combined_df.withColumn(f\"SMA_5\", F.avg(F.col(\"CLOSE\")).over(window_spec.rowsBetween(-4, 0)))\n",
    "#     combined_df = combined_df.withColumn(f\"SMA_10\", F.avg(F.col(\"CLOSE\")).over(window_spec.rowsBetween(-9, 0)))\n",
    "#     combined_df = combined_df.withColumn(f\"SMA_20\", F.avg(F.col(\"CLOSE\")).over(window_spec.rowsBetween(-19, 0)))\n",
    "#     combined_df = combined_df.withColumn(f\"SMA_50\", F.avg(F.col(\"CLOSE\")).over(window_spec.rowsBetween(-49, 0)))\n",
    "#     combined_df = combined_df.withColumn(f\"SMA_100\", F.avg(F.col(\"CLOSE\")).over(window_spec.rowsBetween(-99, 0)))\n",
    "#     combined_df = combined_df.withColumn(f\"SMA_200\", F.avg(F.col(\"CLOSE\")).over(window_spec.rowsBetween(-199, 0)))\n",
    "\n",
    "#     combined_df = combined_df.orderBy(\"DATE\", ascending=False)\n",
    "    \n",
    "#     current_date = F.current_date() \n",
    "#     combined_df = combined_df.filter(F.col(\"DATE\") >= current_date)\n",
    "\n",
    "#     tmp_dir = f\"gs://indicator-crypto/sma_results/tmp/{coin}\"\n",
    "\n",
    "#     #combined_df.write.format(\"console\").option(\"truncate\", False).save()\n",
    "#     combined_df.write \\\n",
    "#         .format(\"csv\") \\\n",
    "#         .option(\"header\", \"true\") \\\n",
    "#         .option(\"path\", tmp_dir) \\\n",
    "#         .mode(\"append\") \\\n",
    "#         .save()\n",
    "    \n",
    "# def process_batch(micro_batch_df, batch_id):\n",
    "#     micro_batch_latest_df = (\n",
    "#         micro_batch_df\n",
    "#         .withColumn(\"row_num\", F.row_number().over(Window.orderBy(F.col(\"DATE\").desc())))\n",
    "#         .filter(F.col(\"row_num\") == 1)\n",
    "#         .drop(\"row_num\")\n",
    "#     )\n",
    "    \n",
    "#     with ThreadPoolExecutor() as executor:\n",
    "#         futures = [executor.submit(process_coin, coin, micro_batch_latest_df) for coin in column_names]\n",
    "#         for future in as_completed(futures):\n",
    "#             print(future.result()) \n",
    "\n",
    "# # Thực thi stream\n",
    "# query = crypto_parsed_df.writeStream \\\n",
    "#     .foreachBatch(process_batch) \\\n",
    "#     .start()\n",
    "\n",
    "# query.awaitTermination()\n"
   ]
  },
  {
   "cell_type": "code",
   "execution_count": 10,
   "metadata": {},
   "outputs": [
    {
     "name": "stderr",
     "output_type": "stream",
     "text": [
      "24/12/14 16:20:09 WARN ResolveWriteToStream: Temporary checkpoint location created which is deleted normally when the query didn't fail: /private/var/folders/k9/xss4jl9s24sg7_7zhcmrp2g00000gn/T/temporary-bf953da0-4e27-4f56-8722-54b686d32abc. If it's required to delete it under any circumstances, please set spark.sql.streaming.forceDeleteTempCheckpointLocation to true. Important to know deleting temp checkpoint folder is best effort.\n",
      "24/12/14 16:20:09 WARN ResolveWriteToStream: spark.sql.adaptive.enabled is not supported in streaming DataFrames/Datasets and will be disabled.\n",
      "24/12/14 16:20:09 WARN AdminClientConfig: The configuration 'key.deserializer' was supplied but isn't a known config.\n",
      "24/12/14 16:20:09 WARN AdminClientConfig: The configuration 'value.deserializer' was supplied but isn't a known config.\n",
      "24/12/14 16:20:09 WARN AdminClientConfig: The configuration 'enable.auto.commit' was supplied but isn't a known config.\n",
      "24/12/14 16:20:09 WARN AdminClientConfig: The configuration 'max.poll.records' was supplied but isn't a known config.\n",
      "24/12/14 16:20:09 WARN AdminClientConfig: The configuration 'auto.offset.reset' was supplied but isn't a known config.\n",
      "24/12/14 16:20:12 WARN WindowExec: No Partition Defined for Window operation! Moving all data to a single partition, this can cause serious performance degradation.\n",
      "24/12/14 16:20:12 WARN WindowExec: No Partition Defined for Window operation! Moving all data to a single partition, this can cause serious performance degradation.\n",
      "24/12/14 16:20:12 WARN WindowExec: No Partition Defined for Window operation! Moving all data to a single partition, this can cause serious performance degradation.\n",
      "24/12/14 16:20:12 WARN WindowExec: No Partition Defined for Window operation! Moving all data to a single partition, this can cause serious performance degradation.\n",
      "24/12/14 16:20:12 WARN WindowExec: No Partition Defined for Window operation! Moving all data to a single partition, this can cause serious performance degradation.\n",
      "24/12/14 16:20:12 WARN WindowExec: No Partition Defined for Window operation! Moving all data to a single partition, this can cause serious performance degradation.\n",
      "24/12/14 16:20:12 WARN WindowExec: No Partition Defined for Window operation! Moving all data to a single partition, this can cause serious performance degradation.\n",
      "24/12/14 16:20:12 WARN WindowExec: No Partition Defined for Window operation! Moving all data to a single partition, this can cause serious performance degradation.\n",
      "24/12/14 16:20:12 WARN WindowExec: No Partition Defined for Window operation! Moving all data to a single partition, this can cause serious performance degradation.\n",
      "24/12/14 16:20:12 WARN WindowExec: No Partition Defined for Window operation! Moving all data to a single partition, this can cause serious performance degradation.\n",
      "24/12/14 16:20:12 WARN WindowExec: No Partition Defined for Window operation! Moving all data to a single partition, this can cause serious performance degradation.\n",
      "24/12/14 16:20:12 WARN WindowExec: No Partition Defined for Window operation! Moving all data to a single partition, this can cause serious performance degradation.\n",
      "24/12/14 16:20:12 WARN WindowExec: No Partition Defined for Window operation! Moving all data to a single partition, this can cause serious performance degradation.\n",
      "24/12/14 16:20:12 WARN WindowExec: No Partition Defined for Window operation! Moving all data to a single partition, this can cause serious performance degradation.\n",
      "24/12/14 16:20:12 WARN WindowExec: No Partition Defined for Window operation! Moving all data to a single partition, this can cause serious performance degradation.\n",
      "24/12/14 16:20:12 WARN WindowExec: No Partition Defined for Window operation! Moving all data to a single partition, this can cause serious performance degradation.\n",
      "24/12/14 16:20:12 WARN WindowExec: No Partition Defined for Window operation! Moving all data to a single partition, this can cause serious performance degradation.\n",
      "24/12/14 16:20:12 WARN WindowExec: No Partition Defined for Window operation! Moving all data to a single partition, this can cause serious performance degradation.\n",
      "24/12/14 16:20:12 WARN WindowExec: No Partition Defined for Window operation! Moving all data to a single partition, this can cause serious performance degradation.\n",
      "24/12/14 16:20:12 WARN WindowExec: No Partition Defined for Window operation! Moving all data to a single partition, this can cause serious performance degradation.\n",
      "24/12/14 16:20:12 WARN WindowExec: No Partition Defined for Window operation! Moving all data to a single partition, this can cause serious performance degradation.\n",
      "24/12/14 16:20:12 WARN WindowExec: No Partition Defined for Window operation! Moving all data to a single partition, this can cause serious performance degradation.\n",
      "24/12/14 16:20:12 WARN WindowExec: No Partition Defined for Window operation! Moving all data to a single partition, this can cause serious performance degradation.\n",
      "24/12/14 16:20:12 WARN WindowExec: No Partition Defined for Window operation! Moving all data to a single partition, this can cause serious performance degradation.\n",
      "24/12/14 16:20:12 WARN WindowExec: No Partition Defined for Window operation! Moving all data to a single partition, this can cause serious performance degradation.\n",
      "24/12/14 16:20:13 WARN WindowExec: No Partition Defined for Window operation! Moving all data to a single partition, this can cause serious performance degradation.\n",
      "24/12/14 16:20:13 WARN WindowExec: No Partition Defined for Window operation! Moving all data to a single partition, this can cause serious performance degradation.\n",
      "                                                                                \r"
     ]
    },
    {
     "name": "stdout",
     "output_type": "stream",
     "text": [
      "+----+-----+------------+----+----+--------+--------+---+------+\n",
      "|DATE|CLOSE|price_change|gain|loss|avg_gain|avg_loss|rs |RSI_14|\n",
      "+----+-----+------------+----+----+--------+--------+---+------+\n",
      "+----+-----+------------+----+----+--------+--------+---+------+\n",
      "\n"
     ]
    },
    {
     "name": "stderr",
     "output_type": "stream",
     "text": [
      "                                                                                \r"
     ]
    },
    {
     "name": "stdout",
     "output_type": "stream",
     "text": [
      "+----+-----+------------+----+----+--------+--------+---+------+\n",
      "|DATE|CLOSE|price_change|gain|loss|avg_gain|avg_loss|rs |RSI_14|\n",
      "+----+-----+------------+----+----+--------+--------+---+------+\n",
      "+----+-----+------------+----+----+--------+--------+---+------+\n",
      "\n"
     ]
    },
    {
     "name": "stderr",
     "output_type": "stream",
     "text": [
      "                                                                                \r"
     ]
    },
    {
     "name": "stdout",
     "output_type": "stream",
     "text": [
      "+----+-----+------------+----+----+--------+--------+---+------+\n",
      "|DATE|CLOSE|price_change|gain|loss|avg_gain|avg_loss|rs |RSI_14|\n",
      "+----+-----+------------+----+----+--------+--------+---+------+\n",
      "+----+-----+------------+----+----+--------+--------+---+------+\n",
      "\n"
     ]
    },
    {
     "name": "stderr",
     "output_type": "stream",
     "text": [
      "                                                                                \r"
     ]
    },
    {
     "name": "stdout",
     "output_type": "stream",
     "text": [
      "+----+-----+------------+----+----+--------+--------+---+------+\n",
      "|DATE|CLOSE|price_change|gain|loss|avg_gain|avg_loss|rs |RSI_14|\n",
      "+----+-----+------------+----+----+--------+--------+---+------+\n",
      "+----+-----+------------+----+----+--------+--------+---+------+\n",
      "\n",
      "+----+-----+------------+----+----+--------+--------+---+------+\n",
      "|DATE|CLOSE|price_change|gain|loss|avg_gain|avg_loss|rs |RSI_14|\n",
      "+----+-----+------------+----+----+--------+--------+---+------+\n",
      "+----+-----+------------+----+----+--------+--------+---+------+\n",
      "\n"
     ]
    },
    {
     "name": "stderr",
     "output_type": "stream",
     "text": [
      "                                                                                \r"
     ]
    },
    {
     "name": "stdout",
     "output_type": "stream",
     "text": [
      "+----+-----+------------+----+----+--------+--------+---+------+\n",
      "|DATE|CLOSE|price_change|gain|loss|avg_gain|avg_loss|rs |RSI_14|\n",
      "+----+-----+------------+----+----+--------+--------+---+------+\n",
      "+----+-----+------------+----+----+--------+--------+---+------+\n",
      "\n",
      "+----+-----+------------+----+----+--------+--------+---+------+\n",
      "|DATE|CLOSE|price_change|gain|loss|avg_gain|avg_loss|rs |RSI_14|\n",
      "+----+-----+------------+----+----+--------+--------+---+------+\n",
      "+----+-----+------------+----+----+--------+--------+---+------+\n",
      "\n",
      "+----+-----+------------+----+----+--------+--------+---+------+\n",
      "|DATE|CLOSE|price_change|gain|loss|avg_gain|avg_loss|rs |RSI_14|\n",
      "+----+-----+------------+----+----+--------+--------+---+------+\n",
      "+----+-----+------------+----+----+--------+--------+---+------+\n",
      "\n",
      "+----+-----+------------+----+----+--------+--------+---+------+\n",
      "|DATE|CLOSE|price_change|gain|loss|avg_gain|avg_loss|rs |RSI_14|\n",
      "+----+-----+------------+----+----+--------+--------+---+------+\n",
      "+----+-----+------------+----+----+--------+--------+---+------+\n",
      "\n"
     ]
    },
    {
     "name": "stderr",
     "output_type": "stream",
     "text": [
      "24/12/14 16:23:39 WARN WindowExec: No Partition Defined for Window operation! Moving all data to a single partition, this can cause serious performance degradation.\n",
      "24/12/14 16:23:39 WARN WindowExec: No Partition Defined for Window operation! Moving all data to a single partition, this can cause serious performance degradation.\n",
      "24/12/14 16:23:39 WARN WindowExec: No Partition Defined for Window operation! Moving all data to a single partition, this can cause serious performance degradation.\n",
      "24/12/14 16:23:39 WARN WindowExec: No Partition Defined for Window operation! Moving all data to a single partition, this can cause serious performance degradation.\n",
      "24/12/14 16:23:39 WARN WindowExec: No Partition Defined for Window operation! Moving all data to a single partition, this can cause serious performance degradation.\n",
      "24/12/14 16:23:39 WARN WindowExec: No Partition Defined for Window operation! Moving all data to a single partition, this can cause serious performance degradation.\n",
      "24/12/14 16:23:39 WARN WindowExec: No Partition Defined for Window operation! Moving all data to a single partition, this can cause serious performance degradation.\n",
      "24/12/14 16:23:39 WARN WindowExec: No Partition Defined for Window operation! Moving all data to a single partition, this can cause serious performance degradation.\n",
      "24/12/14 16:23:39 WARN WindowExec: No Partition Defined for Window operation! Moving all data to a single partition, this can cause serious performance degradation.\n",
      "24/12/14 16:23:39 WARN WindowExec: No Partition Defined for Window operation! Moving all data to a single partition, this can cause serious performance degradation.\n",
      "24/12/14 16:23:39 WARN WindowExec: No Partition Defined for Window operation! Moving all data to a single partition, this can cause serious performance degradation.\n",
      "24/12/14 16:23:39 WARN WindowExec: No Partition Defined for Window operation! Moving all data to a single partition, this can cause serious performance degradation.\n",
      "24/12/14 16:23:39 WARN WindowExec: No Partition Defined for Window operation! Moving all data to a single partition, this can cause serious performance degradation.\n",
      "24/12/14 16:23:39 WARN WindowExec: No Partition Defined for Window operation! Moving all data to a single partition, this can cause serious performance degradation.\n",
      "24/12/14 16:23:39 WARN WindowExec: No Partition Defined for Window operation! Moving all data to a single partition, this can cause serious performance degradation.\n",
      "24/12/14 16:23:39 WARN WindowExec: No Partition Defined for Window operation! Moving all data to a single partition, this can cause serious performance degradation.\n",
      "24/12/14 16:23:39 WARN WindowExec: No Partition Defined for Window operation! Moving all data to a single partition, this can cause serious performance degradation.\n",
      "24/12/14 16:23:39 WARN WindowExec: No Partition Defined for Window operation! Moving all data to a single partition, this can cause serious performance degradation.\n",
      "24/12/14 16:23:39 WARN WindowExec: No Partition Defined for Window operation! Moving all data to a single partition, this can cause serious performance degradation.\n",
      "24/12/14 16:23:39 WARN WindowExec: No Partition Defined for Window operation! Moving all data to a single partition, this can cause serious performance degradation.\n",
      "24/12/14 16:23:39 WARN WindowExec: No Partition Defined for Window operation! Moving all data to a single partition, this can cause serious performance degradation.\n",
      "24/12/14 16:23:39 WARN WindowExec: No Partition Defined for Window operation! Moving all data to a single partition, this can cause serious performance degradation.\n",
      "24/12/14 16:23:39 WARN WindowExec: No Partition Defined for Window operation! Moving all data to a single partition, this can cause serious performance degradation.\n",
      "24/12/14 16:23:39 WARN WindowExec: No Partition Defined for Window operation! Moving all data to a single partition, this can cause serious performance degradation.\n",
      "24/12/14 16:23:39 WARN WindowExec: No Partition Defined for Window operation! Moving all data to a single partition, this can cause serious performance degradation.\n",
      "24/12/14 16:23:39 WARN WindowExec: No Partition Defined for Window operation! Moving all data to a single partition, this can cause serious performance degradation.\n",
      "24/12/14 16:23:39 WARN WindowExec: No Partition Defined for Window operation! Moving all data to a single partition, this can cause serious performance degradation.\n",
      "24/12/14 16:23:39 WARN WindowExec: No Partition Defined for Window operation! Moving all data to a single partition, this can cause serious performance degradation.\n",
      "24/12/14 16:23:39 WARN WindowExec: No Partition Defined for Window operation! Moving all data to a single partition, this can cause serious performance degradation.\n",
      "24/12/14 16:23:39 WARN WindowExec: No Partition Defined for Window operation! Moving all data to a single partition, this can cause serious performance degradation.\n",
      "24/12/14 16:23:39 WARN WindowExec: No Partition Defined for Window operation! Moving all data to a single partition, this can cause serious performance degradation.\n",
      "24/12/14 16:23:39 WARN WindowExec: No Partition Defined for Window operation! Moving all data to a single partition, this can cause serious performance degradation.\n",
      "24/12/14 16:23:39 WARN WindowExec: No Partition Defined for Window operation! Moving all data to a single partition, this can cause serious performance degradation.\n",
      "24/12/14 16:23:39 WARN WindowExec: No Partition Defined for Window operation! Moving all data to a single partition, this can cause serious performance degradation.\n",
      "24/12/14 16:23:39 WARN WindowExec: No Partition Defined for Window operation! Moving all data to a single partition, this can cause serious performance degradation.\n",
      "24/12/14 16:23:39 WARN WindowExec: No Partition Defined for Window operation! Moving all data to a single partition, this can cause serious performance degradation.\n",
      "24/12/14 16:23:39 WARN WindowExec: No Partition Defined for Window operation! Moving all data to a single partition, this can cause serious performance degradation.\n",
      "24/12/14 16:23:39 WARN WindowExec: No Partition Defined for Window operation! Moving all data to a single partition, this can cause serious performance degradation.\n",
      "24/12/14 16:23:39 WARN WindowExec: No Partition Defined for Window operation! Moving all data to a single partition, this can cause serious performance degradation.\n",
      "24/12/14 16:23:40 WARN WindowExec: No Partition Defined for Window operation! Moving all data to a single partition, this can cause serious performance degradation.\n",
      "24/12/14 16:23:40 WARN WindowExec: No Partition Defined for Window operation! Moving all data to a single partition, this can cause serious performance degradation.\n",
      "24/12/14 16:23:40 WARN WindowExec: No Partition Defined for Window operation! Moving all data to a single partition, this can cause serious performance degradation.\n",
      "24/12/14 16:23:40 WARN WindowExec: No Partition Defined for Window operation! Moving all data to a single partition, this can cause serious performance degradation.\n",
      "24/12/14 16:23:40 WARN WindowExec: No Partition Defined for Window operation! Moving all data to a single partition, this can cause serious performance degradation.\n",
      "24/12/14 16:23:40 WARN WindowExec: No Partition Defined for Window operation! Moving all data to a single partition, this can cause serious performance degradation.\n",
      "24/12/14 16:23:40 WARN WindowExec: No Partition Defined for Window operation! Moving all data to a single partition, this can cause serious performance degradation.\n",
      "24/12/14 16:23:40 WARN WindowExec: No Partition Defined for Window operation! Moving all data to a single partition, this can cause serious performance degradation.\n",
      "24/12/14 16:23:40 WARN WindowExec: No Partition Defined for Window operation! Moving all data to a single partition, this can cause serious performance degradation.\n",
      "24/12/14 16:23:40 WARN WindowExec: No Partition Defined for Window operation! Moving all data to a single partition, this can cause serious performance degradation.\n",
      "24/12/14 16:23:40 WARN WindowExec: No Partition Defined for Window operation! Moving all data to a single partition, this can cause serious performance degradation.\n",
      "24/12/14 16:23:40 WARN WindowExec: No Partition Defined for Window operation! Moving all data to a single partition, this can cause serious performance degradation.\n",
      "24/12/14 16:23:40 WARN WindowExec: No Partition Defined for Window operation! Moving all data to a single partition, this can cause serious performance degradation.\n",
      "24/12/14 16:23:40 WARN WindowExec: No Partition Defined for Window operation! Moving all data to a single partition, this can cause serious performance degradation.\n",
      "24/12/14 16:23:40 WARN WindowExec: No Partition Defined for Window operation! Moving all data to a single partition, this can cause serious performance degradation.\n",
      "                                                                                \r"
     ]
    },
    {
     "name": "stdout",
     "output_type": "stream",
     "text": [
      "+--------------------------+------------------+----------------------+----+---------------------+---------------------+---------------------+------------------+------------------+\n",
      "|DATE                      |CLOSE             |price_change          |gain|loss                 |avg_gain             |avg_loss             |rs                |RSI_14            |\n",
      "+--------------------------+------------------+----------------------+----+---------------------+---------------------+---------------------+------------------+------------------+\n",
      "|2024-12-14 16:23:34.593375|0.9998670220375061|-1.3297796249389648E-4|0.0 |1.3297796249389648E-4|2.8571428571425423E-5|3.0926997320990246E-5|0.9238345473659646|48.020478093131295|\n",
      "+--------------------------+------------------+----------------------+----+---------------------+---------------------+---------------------+------------------+------------------+\n",
      "\n",
      "+--------------------------+-------------------+--------------------+--------------------+----+--------------------+--------------------+------------------+------------------+\n",
      "|DATE                      |CLOSE              |price_change        |gain                |loss|avg_gain            |avg_loss            |rs                |RSI_14            |\n",
      "+--------------------------+-------------------+--------------------+--------------------+----+--------------------+--------------------+------------------+------------------+\n",
      "|2024-12-14 16:23:34.593375|0.40730300545692444|0.004292605456924448|0.004292605456924448|0.0 |0.006629136104066029|0.007998207142857141|0.8288277592292954|45.320165064564634|\n",
      "+--------------------------+-------------------+--------------------+--------------------+----+--------------------+--------------------+------------------+------------------+\n",
      "\n",
      "+--------------------------+------------------+----------------------+----+---------------------+---------------------+---------------------+------------------+------------------+\n",
      "|DATE                      |CLOSE             |price_change          |gain|loss                 |avg_gain             |avg_loss             |rs                |RSI_14            |\n",
      "+--------------------------+------------------+----------------------+----+---------------------+---------------------+---------------------+------------------+------------------+\n",
      "|2024-12-14 16:23:34.593375|0.9998670220375061|-1.3297796249389648E-4|0.0 |1.3297796249389648E-4|2.8571428571425423E-5|3.0926997320990246E-5|0.9238345473659646|48.020478093131295|\n",
      "+--------------------------+------------------+----------------------+----+---------------------+---------------------+---------------------+------------------+------------------+\n",
      "\n",
      "+--------------------------+------------------+----------------------+----+---------------------+---------------------+---------------------+------------------+-----------------+\n",
      "|DATE                      |CLOSE             |price_change          |gain|loss                 |avg_gain             |avg_loss             |rs                |RSI_14           |\n",
      "+--------------------------+------------------+----------------------+----+---------------------+---------------------+---------------------+------------------+-----------------+\n",
      "|2024-12-14 16:23:34.593375|0.9999120235443115|-2.0797645568837453E-4|0.0 |2.0797645568837453E-4|1.5214285714285465E-4|1.8699831826345697E-4|0.8136054834915928|44.86121655991147|\n",
      "+--------------------------+------------------+----------------------+----+---------------------+---------------------+---------------------+------------------+-----------------+\n",
      "\n",
      "+--------------------------+------------------+--------------------+--------------------+----+--------------------+-------------------+------------------+------------------+\n",
      "|DATE                      |CLOSE             |price_change        |gain                |loss|avg_gain            |avg_loss           |rs                |RSI_14            |\n",
      "+--------------------------+------------------+--------------------+--------------------+----+--------------------+-------------------+------------------+------------------+\n",
      "|2024-12-14 16:23:34.593375|1.1100000143051147|0.025274014305114667|0.025274014305114667|0.0 |0.024157643878936756|0.02173621428571428|1.1114007048970767|52.638075866856994|\n",
      "+--------------------------+------------------+--------------------+--------------------+----+--------------------+-------------------+------------------+------------------+\n",
      "\n",
      "+--------------------------+------------------+-------------------+-------------------+----+-------------------+-------------------+-----------------+-----------------+\n",
      "|DATE                      |CLOSE             |price_change       |gain               |loss|avg_gain           |avg_loss           |rs               |RSI_14           |\n",
      "+--------------------------+------------------+-------------------+-------------------+----+-------------------+-------------------+-----------------+-----------------+\n",
      "|2024-12-14 16:23:34.593375|2.4600000381469727|0.06096003814697282|0.06096003814697282|0.0 |0.11348714558192663|0.06650142857142859|1.706536957473494|63.05241658575086|\n",
      "+--------------------------+------------------+-------------------+-------------------+----+-------------------+-------------------+-----------------+-----------------+\n",
      "\n",
      "+--------------------------+------------------+--------------------+--------------------+----+------------------+--------------------+------------------+------------------+\n",
      "|DATE                      |CLOSE             |price_change        |gain                |loss|avg_gain          |avg_loss            |rs                |RSI_14            |\n",
      "+--------------------------+------------------+--------------------+--------------------+----+------------------+--------------------+------------------+------------------+\n",
      "|2024-12-14 16:23:34.593375|0.6176900267601013|0.006290026760101264|0.006290026760101264|0.0 |0.0158850019114358|0.013442857142857137|1.1816685800217923|54.163523774540906|\n",
      "+--------------------------+------------------+--------------------+--------------------+----+------------------+--------------------+------------------+------------------+\n",
      "\n"
     ]
    },
    {
     "name": "stderr",
     "output_type": "stream",
     "text": [
      "                                                                                \r"
     ]
    },
    {
     "name": "stdout",
     "output_type": "stream",
     "text": [
      "+--------------------------+--------+-----------------+-----------------+----+-----------------+-----------------+------------------+------------------+\n",
      "|DATE                      |CLOSE   |price_change     |gain             |loss|avg_gain         |avg_loss         |rs                |RSI_14            |\n",
      "+--------------------------+--------+-----------------+-----------------+----+-----------------+-----------------+------------------+------------------+\n",
      "|2024-12-14 16:23:34.593375|101644.0|1746.199999999997|1746.199999999997|0.0 |946.7571428571422|650.0828571428564|1.4563638041744136|59.289418029179075|\n",
      "+--------------------------+--------+-----------------+-----------------+----+-----------------+-----------------+------------------+------------------+\n",
      "\n",
      "+--------------------------+-----------------+-----------------+-----------------+----+------------------+-----------------+------------------+-----------------+\n",
      "|DATE                      |CLOSE            |price_change     |gain             |loss|avg_gain          |avg_loss         |rs                |RSI_14           |\n",
      "+--------------------------+-----------------+-----------------+-----------------+----+------------------+-----------------+------------------+-----------------+\n",
      "|2024-12-14 16:23:34.593375|3917.010009765625|30.63000976562489|30.63000976562489|0.0 |60.429286411830354|37.33357142857143|1.6186312774133294|61.81211121148011|\n",
      "+--------------------------+-----------------+-----------------+-----------------+----+------------------+-----------------+------------------+-----------------+\n",
      "\n"
     ]
    },
    {
     "name": "stderr",
     "output_type": "stream",
     "text": [
      "                                                                                \r"
     ]
    },
    {
     "name": "stdout",
     "output_type": "stream",
     "text": [
      "+--------------------------+------------------+--------------------+--------------------+----+------------------+--------------------+------------------+------------------+\n",
      "|DATE                      |CLOSE             |price_change        |gain                |loss|avg_gain          |avg_loss            |rs                |RSI_14            |\n",
      "+--------------------------+------------------+--------------------+--------------------+----+------------------+--------------------+------------------+------------------+\n",
      "|2024-12-14 16:23:34.593375|0.6176900267601013|0.006290026760101264|0.006290026760101264|0.0 |0.0158850019114358|0.013442857142857137|1.1816685800217923|54.163523774540906|\n",
      "+--------------------------+------------------+--------------------+--------------------+----+------------------+--------------------+------------------+------------------+\n",
      "\n",
      "+--------------------------+-----------------+-----------------+-----------------+----+------------------+-----------------+------------------+-----------------+\n",
      "|DATE                      |CLOSE            |price_change     |gain             |loss|avg_gain          |avg_loss         |rs                |RSI_14           |\n",
      "+--------------------------+-----------------+-----------------+-----------------+----+------------------+-----------------+------------------+-----------------+\n",
      "|2024-12-14 16:23:34.593375|3917.010009765625|30.63000976562489|30.63000976562489|0.0 |60.429286411830354|37.33357142857143|1.6186312774133294|61.81211121148011|\n",
      "+--------------------------+-----------------+-----------------+-----------------+----+------------------+-----------------+------------------+-----------------+\n",
      "\n"
     ]
    },
    {
     "name": "stderr",
     "output_type": "stream",
     "text": [
      "                                                                                \r"
     ]
    },
    {
     "name": "stdout",
     "output_type": "stream",
     "text": [
      "+--------------------------+------------------+-----------------+-----------------+----+------------------+-----------------+------------------+-----------------+\n",
      "|DATE                      |CLOSE             |price_change     |gain             |loss|avg_gain          |avg_loss         |rs                |RSI_14           |\n",
      "+--------------------------+------------------+-----------------+-----------------+----+------------------+-----------------+------------------+-----------------+\n",
      "|2024-12-14 16:23:34.593375|225.89999389648438|4.659993896484366|4.659993896484366|0.0 |2.5271424211774547|3.779285714285714|0.6686825533261079|40.07248424772309|\n",
      "+--------------------------+------------------+-----------------+-----------------+----+------------------+-----------------+------------------+-----------------+\n",
      "\n",
      "+--------------------------+--------+-----------------+-----------------+----+-----------------+-----------------+------------------+------------------+\n",
      "|DATE                      |CLOSE   |price_change     |gain             |loss|avg_gain         |avg_loss         |rs                |RSI_14            |\n",
      "+--------------------------+--------+-----------------+-----------------+----+-----------------+-----------------+------------------+------------------+\n",
      "|2024-12-14 16:23:34.593375|101644.0|1746.199999999997|1746.199999999997|0.0 |946.7571428571422|650.0828571428564|1.4563638041744136|59.289418029179075|\n",
      "+--------------------------+--------+-----------------+-----------------+----+-----------------+-----------------+------------------+------------------+\n",
      "\n"
     ]
    },
    {
     "name": "stderr",
     "output_type": "stream",
     "text": [
      "                                                                                \r"
     ]
    },
    {
     "name": "stdout",
     "output_type": "stream",
     "text": [
      "+--------------------------+------------------+-------------------+-------------------+----+-------------------+-------------------+-----------------+-----------------+\n",
      "|DATE                      |CLOSE             |price_change       |gain               |loss|avg_gain           |avg_loss           |rs               |RSI_14           |\n",
      "+--------------------------+------------------+-------------------+-------------------+----+-------------------+-------------------+-----------------+-----------------+\n",
      "|2024-12-14 16:23:34.593375|2.4600000381469727|0.06096003814697282|0.06096003814697282|0.0 |0.11348714558192663|0.06650142857142859|1.706536957473494|63.05241658575086|\n",
      "+--------------------------+------------------+-------------------+-------------------+----+-------------------+-------------------+-----------------+-----------------+\n",
      "\n"
     ]
    },
    {
     "name": "stderr",
     "output_type": "stream",
     "text": [
      "                                                                                \r"
     ]
    },
    {
     "name": "stdout",
     "output_type": "stream",
     "text": [
      "+--------------------------+------------------+--------------------+--------------------+----+--------------------+-------------------+------------------+------------------+\n",
      "|DATE                      |CLOSE             |price_change        |gain                |loss|avg_gain            |avg_loss           |rs                |RSI_14            |\n",
      "+--------------------------+------------------+--------------------+--------------------+----+--------------------+-------------------+------------------+------------------+\n",
      "|2024-12-14 16:23:34.593375|1.1100000143051147|0.025274014305114667|0.025274014305114667|0.0 |0.024157643878936756|0.02173621428571428|1.1114007048970767|52.638075866856994|\n",
      "+--------------------------+------------------+--------------------+--------------------+----+--------------------+-------------------+------------------+------------------+\n",
      "\n",
      "+--------------------------+------------------+----------------------+----+---------------------+---------------------+---------------------+------------------+-----------------+\n",
      "|DATE                      |CLOSE             |price_change          |gain|loss                 |avg_gain             |avg_loss             |rs                |RSI_14           |\n",
      "+--------------------------+------------------+----------------------+----+---------------------+---------------------+---------------------+------------------+-----------------+\n",
      "|2024-12-14 16:23:34.593375|0.9999120235443115|-2.0797645568837453E-4|0.0 |2.0797645568837453E-4|1.5214285714285465E-4|1.8699831826345697E-4|0.8136054834915928|44.86121655991147|\n",
      "+--------------------------+------------------+----------------------+----+---------------------+---------------------+---------------------+------------------+-----------------+\n",
      "\n"
     ]
    },
    {
     "name": "stderr",
     "output_type": "stream",
     "text": [
      "                                                                                \r"
     ]
    },
    {
     "name": "stdout",
     "output_type": "stream",
     "text": [
      "+--------------------------+------------------+-----------------+-----------------+----+------------------+-----------------+------------------+-----------------+\n",
      "|DATE                      |CLOSE             |price_change     |gain             |loss|avg_gain          |avg_loss         |rs                |RSI_14           |\n",
      "+--------------------------+------------------+-----------------+-----------------+----+------------------+-----------------+------------------+-----------------+\n",
      "|2024-12-14 16:23:34.593375|225.89999389648438|4.659993896484366|4.659993896484366|0.0 |2.5271424211774547|3.779285714285714|0.6686825533261079|40.07248424772309|\n",
      "+--------------------------+------------------+-----------------+-----------------+----+------------------+-----------------+------------------+-----------------+\n",
      "\n"
     ]
    },
    {
     "name": "stderr",
     "output_type": "stream",
     "text": [
      "                                                                                \r"
     ]
    },
    {
     "name": "stdout",
     "output_type": "stream",
     "text": [
      "+--------------------------+-------------------+--------------------+--------------------+----+--------------------+--------------------+------------------+------------------+\n",
      "|DATE                      |CLOSE              |price_change        |gain                |loss|avg_gain            |avg_loss            |rs                |RSI_14            |\n",
      "+--------------------------+-------------------+--------------------+--------------------+----+--------------------+--------------------+------------------+------------------+\n",
      "|2024-12-14 16:23:34.593375|0.40730300545692444|0.004292605456924448|0.004292605456924448|0.0 |0.006629136104066029|0.007998207142857141|0.8288277592292954|45.320165064564634|\n",
      "+--------------------------+-------------------+--------------------+--------------------+----+--------------------+--------------------+------------------+------------------+\n",
      "\n"
     ]
    },
    {
     "name": "stderr",
     "output_type": "stream",
     "text": [
      "24/12/14 16:23:56 WARN WindowExec: No Partition Defined for Window operation! Moving all data to a single partition, this can cause serious performance degradation.\n",
      "24/12/14 16:23:56 WARN WindowExec: No Partition Defined for Window operation! Moving all data to a single partition, this can cause serious performance degradation.\n",
      "24/12/14 16:23:56 WARN WindowExec: No Partition Defined for Window operation! Moving all data to a single partition, this can cause serious performance degradation.\n",
      "24/12/14 16:23:56 WARN WindowExec: No Partition Defined for Window operation! Moving all data to a single partition, this can cause serious performance degradation.\n",
      "24/12/14 16:23:56 WARN WindowExec: No Partition Defined for Window operation! Moving all data to a single partition, this can cause serious performance degradation.\n",
      "24/12/14 16:23:56 WARN WindowExec: No Partition Defined for Window operation! Moving all data to a single partition, this can cause serious performance degradation.\n",
      "24/12/14 16:23:56 WARN WindowExec: No Partition Defined for Window operation! Moving all data to a single partition, this can cause serious performance degradation.\n",
      "24/12/14 16:23:56 WARN WindowExec: No Partition Defined for Window operation! Moving all data to a single partition, this can cause serious performance degradation.\n",
      "24/12/14 16:23:56 WARN WindowExec: No Partition Defined for Window operation! Moving all data to a single partition, this can cause serious performance degradation.\n",
      "24/12/14 16:23:56 WARN WindowExec: No Partition Defined for Window operation! Moving all data to a single partition, this can cause serious performance degradation.\n",
      "24/12/14 16:23:56 WARN WindowExec: No Partition Defined for Window operation! Moving all data to a single partition, this can cause serious performance degradation.\n",
      "24/12/14 16:23:56 WARN WindowExec: No Partition Defined for Window operation! Moving all data to a single partition, this can cause serious performance degradation.\n",
      "24/12/14 16:23:56 WARN WindowExec: No Partition Defined for Window operation! Moving all data to a single partition, this can cause serious performance degradation.\n",
      "24/12/14 16:23:56 WARN WindowExec: No Partition Defined for Window operation! Moving all data to a single partition, this can cause serious performance degradation.\n",
      "24/12/14 16:23:56 WARN WindowExec: No Partition Defined for Window operation! Moving all data to a single partition, this can cause serious performance degradation.\n",
      "24/12/14 16:23:56 WARN WindowExec: No Partition Defined for Window operation! Moving all data to a single partition, this can cause serious performance degradation.\n",
      "24/12/14 16:23:56 WARN WindowExec: No Partition Defined for Window operation! Moving all data to a single partition, this can cause serious performance degradation.\n",
      "24/12/14 16:23:56 WARN WindowExec: No Partition Defined for Window operation! Moving all data to a single partition, this can cause serious performance degradation.\n",
      "24/12/14 16:23:56 WARN WindowExec: No Partition Defined for Window operation! Moving all data to a single partition, this can cause serious performance degradation.\n",
      "24/12/14 16:23:56 WARN WindowExec: No Partition Defined for Window operation! Moving all data to a single partition, this can cause serious performance degradation.\n",
      "24/12/14 16:23:56 WARN WindowExec: No Partition Defined for Window operation! Moving all data to a single partition, this can cause serious performance degradation.\n",
      "24/12/14 16:23:56 WARN WindowExec: No Partition Defined for Window operation! Moving all data to a single partition, this can cause serious performance degradation.\n",
      "24/12/14 16:23:56 WARN WindowExec: No Partition Defined for Window operation! Moving all data to a single partition, this can cause serious performance degradation.\n",
      "24/12/14 16:23:56 WARN WindowExec: No Partition Defined for Window operation! Moving all data to a single partition, this can cause serious performance degradation.\n",
      "24/12/14 16:23:56 WARN WindowExec: No Partition Defined for Window operation! Moving all data to a single partition, this can cause serious performance degradation.\n",
      "24/12/14 16:23:56 WARN WindowExec: No Partition Defined for Window operation! Moving all data to a single partition, this can cause serious performance degradation.\n",
      "24/12/14 16:23:56 WARN WindowExec: No Partition Defined for Window operation! Moving all data to a single partition, this can cause serious performance degradation.\n",
      "24/12/14 16:23:56 WARN WindowExec: No Partition Defined for Window operation! Moving all data to a single partition, this can cause serious performance degradation.\n",
      "24/12/14 16:23:56 WARN WindowExec: No Partition Defined for Window operation! Moving all data to a single partition, this can cause serious performance degradation.\n",
      "24/12/14 16:23:56 WARN WindowExec: No Partition Defined for Window operation! Moving all data to a single partition, this can cause serious performance degradation.\n",
      "24/12/14 16:23:56 WARN WindowExec: No Partition Defined for Window operation! Moving all data to a single partition, this can cause serious performance degradation.\n",
      "24/12/14 16:23:56 WARN WindowExec: No Partition Defined for Window operation! Moving all data to a single partition, this can cause serious performance degradation.\n",
      "24/12/14 16:23:56 WARN WindowExec: No Partition Defined for Window operation! Moving all data to a single partition, this can cause serious performance degradation.\n",
      "24/12/14 16:23:56 WARN WindowExec: No Partition Defined for Window operation! Moving all data to a single partition, this can cause serious performance degradation.\n",
      "24/12/14 16:23:56 WARN WindowExec: No Partition Defined for Window operation! Moving all data to a single partition, this can cause serious performance degradation.\n",
      "24/12/14 16:23:56 WARN WindowExec: No Partition Defined for Window operation! Moving all data to a single partition, this can cause serious performance degradation.\n",
      "24/12/14 16:23:56 WARN WindowExec: No Partition Defined for Window operation! Moving all data to a single partition, this can cause serious performance degradation.\n",
      "24/12/14 16:23:56 WARN WindowExec: No Partition Defined for Window operation! Moving all data to a single partition, this can cause serious performance degradation.\n",
      "24/12/14 16:23:56 WARN WindowExec: No Partition Defined for Window operation! Moving all data to a single partition, this can cause serious performance degradation.\n",
      "24/12/14 16:23:56 WARN WindowExec: No Partition Defined for Window operation! Moving all data to a single partition, this can cause serious performance degradation.\n",
      "24/12/14 16:23:56 WARN WindowExec: No Partition Defined for Window operation! Moving all data to a single partition, this can cause serious performance degradation.\n",
      "24/12/14 16:23:56 WARN WindowExec: No Partition Defined for Window operation! Moving all data to a single partition, this can cause serious performance degradation.\n",
      "24/12/14 16:23:56 WARN WindowExec: No Partition Defined for Window operation! Moving all data to a single partition, this can cause serious performance degradation.\n",
      "24/12/14 16:23:56 WARN WindowExec: No Partition Defined for Window operation! Moving all data to a single partition, this can cause serious performance degradation.\n",
      "24/12/14 16:23:56 WARN WindowExec: No Partition Defined for Window operation! Moving all data to a single partition, this can cause serious performance degradation.\n",
      "24/12/14 16:23:56 WARN WindowExec: No Partition Defined for Window operation! Moving all data to a single partition, this can cause serious performance degradation.\n",
      "24/12/14 16:23:56 WARN WindowExec: No Partition Defined for Window operation! Moving all data to a single partition, this can cause serious performance degradation.\n",
      "24/12/14 16:23:56 WARN WindowExec: No Partition Defined for Window operation! Moving all data to a single partition, this can cause serious performance degradation.\n",
      "24/12/14 16:23:56 WARN WindowExec: No Partition Defined for Window operation! Moving all data to a single partition, this can cause serious performance degradation.\n",
      "24/12/14 16:23:56 WARN WindowExec: No Partition Defined for Window operation! Moving all data to a single partition, this can cause serious performance degradation.\n",
      "24/12/14 16:23:56 WARN WindowExec: No Partition Defined for Window operation! Moving all data to a single partition, this can cause serious performance degradation.\n",
      "24/12/14 16:23:57 WARN WindowExec: No Partition Defined for Window operation! Moving all data to a single partition, this can cause serious performance degradation.\n",
      "24/12/14 16:23:57 WARN WindowExec: No Partition Defined for Window operation! Moving all data to a single partition, this can cause serious performance degradation.\n",
      "24/12/14 16:23:57 WARN WindowExec: No Partition Defined for Window operation! Moving all data to a single partition, this can cause serious performance degradation.\n",
      "                                                                                \r"
     ]
    },
    {
     "name": "stdout",
     "output_type": "stream",
     "text": [
      "+--------------------------+-------------------+--------------------+--------------------+----+--------------------+--------------------+------------------+------------------+\n",
      "|DATE                      |CLOSE              |price_change        |gain                |loss|avg_gain            |avg_loss            |rs                |RSI_14            |\n",
      "+--------------------------+-------------------+--------------------+--------------------+----+--------------------+--------------------+------------------+------------------+\n",
      "|2024-12-14 16:23:38.220534|0.40730300545692444|0.004292605456924448|0.004292605456924448|0.0 |0.006629136104066029|0.007998207142857141|0.8288277592292954|45.320165064564634|\n",
      "+--------------------------+-------------------+--------------------+--------------------+----+--------------------+--------------------+------------------+------------------+\n",
      "\n",
      "+--------------------------+------------------+----------------------+----+---------------------+---------------------+---------------------+------------------+------------------+\n",
      "|DATE                      |CLOSE             |price_change          |gain|loss                 |avg_gain             |avg_loss             |rs                |RSI_14            |\n",
      "+--------------------------+------------------+----------------------+----+---------------------+---------------------+---------------------+------------------+------------------+\n",
      "|2024-12-14 16:23:38.220534|0.9998670220375061|-1.3297796249389648E-4|0.0 |1.3297796249389648E-4|2.8571428571425423E-5|3.0926997320990246E-5|0.9238345473659646|48.020478093131295|\n",
      "+--------------------------+------------------+----------------------+----+---------------------+---------------------+---------------------+------------------+------------------+\n",
      "\n"
     ]
    },
    {
     "name": "stderr",
     "output_type": "stream",
     "text": [
      "                                                                                \r"
     ]
    },
    {
     "name": "stdout",
     "output_type": "stream",
     "text": [
      "+--------------------------+------------------+-----------------+-----------------+----+------------------+-----------------+------------------+-----------------+\n",
      "|DATE                      |CLOSE             |price_change     |gain             |loss|avg_gain          |avg_loss         |rs                |RSI_14           |\n",
      "+--------------------------+------------------+-----------------+-----------------+----+------------------+-----------------+------------------+-----------------+\n",
      "|2024-12-14 16:23:38.220534|225.89999389648438|4.659993896484366|4.659993896484366|0.0 |2.5271424211774547|3.779285714285714|0.6686825533261079|40.07248424772309|\n",
      "+--------------------------+------------------+-----------------+-----------------+----+------------------+-----------------+------------------+-----------------+\n",
      "\n"
     ]
    },
    {
     "name": "stderr",
     "output_type": "stream",
     "text": [
      "                                                                                \r"
     ]
    },
    {
     "name": "stdout",
     "output_type": "stream",
     "text": [
      "+--------------------------+-----------------+-----------------+-----------------+----+------------------+-----------------+------------------+-----------------+\n",
      "|DATE                      |CLOSE            |price_change     |gain             |loss|avg_gain          |avg_loss         |rs                |RSI_14           |\n",
      "+--------------------------+-----------------+-----------------+-----------------+----+------------------+-----------------+------------------+-----------------+\n",
      "|2024-12-14 16:23:38.220534|3917.010009765625|30.63000976562489|30.63000976562489|0.0 |60.429286411830354|37.33357142857143|1.6186312774133294|61.81211121148011|\n",
      "+--------------------------+-----------------+-----------------+-----------------+----+------------------+-----------------+------------------+-----------------+\n",
      "\n",
      "+--------------------------+------------------+--------------------+--------------------+----+--------------------+-------------------+------------------+------------------+\n",
      "|DATE                      |CLOSE             |price_change        |gain                |loss|avg_gain            |avg_loss           |rs                |RSI_14            |\n",
      "+--------------------------+------------------+--------------------+--------------------+----+--------------------+-------------------+------------------+------------------+\n",
      "|2024-12-14 16:23:38.220534|1.1100000143051147|0.025274014305114667|0.025274014305114667|0.0 |0.024157643878936756|0.02173621428571428|1.1114007048970767|52.638075866856994|\n",
      "+--------------------------+------------------+--------------------+--------------------+----+--------------------+-------------------+------------------+------------------+\n",
      "\n"
     ]
    },
    {
     "name": "stderr",
     "output_type": "stream",
     "text": [
      "                                                                                \r"
     ]
    },
    {
     "name": "stdout",
     "output_type": "stream",
     "text": [
      "+--------------------------+--------+-----------------+-----------------+----+-----------------+-----------------+------------------+------------------+\n",
      "|DATE                      |CLOSE   |price_change     |gain             |loss|avg_gain         |avg_loss         |rs                |RSI_14            |\n",
      "+--------------------------+--------+-----------------+-----------------+----+-----------------+-----------------+------------------+------------------+\n",
      "|2024-12-14 16:23:38.220534|101644.0|1746.199999999997|1746.199999999997|0.0 |946.7571428571422|650.0828571428564|1.4563638041744136|59.289418029179075|\n",
      "+--------------------------+--------+-----------------+-----------------+----+-----------------+-----------------+------------------+------------------+\n",
      "\n"
     ]
    },
    {
     "name": "stderr",
     "output_type": "stream",
     "text": [
      "                                                                                \r"
     ]
    },
    {
     "name": "stdout",
     "output_type": "stream",
     "text": [
      "+--------------------------+------------------+----------------------+----+---------------------+---------------------+---------------------+------------------+-----------------+\n",
      "|DATE                      |CLOSE             |price_change          |gain|loss                 |avg_gain             |avg_loss             |rs                |RSI_14           |\n",
      "+--------------------------+------------------+----------------------+----+---------------------+---------------------+---------------------+------------------+-----------------+\n",
      "|2024-12-14 16:23:38.220534|0.9999120235443115|-2.0797645568837453E-4|0.0 |2.0797645568837453E-4|1.5214285714285465E-4|1.8699831826345697E-4|0.8136054834915928|44.86121655991147|\n",
      "+--------------------------+------------------+----------------------+----+---------------------+---------------------+---------------------+------------------+-----------------+\n",
      "\n",
      "+--------------------------+------------------+--------------------+--------------------+----+------------------+--------------------+------------------+------------------+\n",
      "|DATE                      |CLOSE             |price_change        |gain                |loss|avg_gain          |avg_loss            |rs                |RSI_14            |\n",
      "+--------------------------+------------------+--------------------+--------------------+----+------------------+--------------------+------------------+------------------+\n",
      "|2024-12-14 16:23:38.220534|0.6176900267601013|0.006290026760101264|0.006290026760101264|0.0 |0.0158850019114358|0.013442857142857137|1.1816685800217923|54.163523774540906|\n",
      "+--------------------------+------------------+--------------------+--------------------+----+------------------+--------------------+------------------+------------------+\n",
      "\n"
     ]
    },
    {
     "name": "stderr",
     "output_type": "stream",
     "text": [
      "                                                                                \r"
     ]
    },
    {
     "name": "stdout",
     "output_type": "stream",
     "text": [
      "+--------------------------+------------------+-------------------+-------------------+----+-------------------+-------------------+-----------------+-----------------+\n",
      "|DATE                      |CLOSE             |price_change       |gain               |loss|avg_gain           |avg_loss           |rs               |RSI_14           |\n",
      "+--------------------------+------------------+-------------------+-------------------+----+-------------------+-------------------+-----------------+-----------------+\n",
      "|2024-12-14 16:23:38.220534|2.4600000381469727|0.06096003814697282|0.06096003814697282|0.0 |0.11348714558192663|0.06650142857142859|1.706536957473494|63.05241658575086|\n",
      "+--------------------------+------------------+-------------------+-------------------+----+-------------------+-------------------+-----------------+-----------------+\n",
      "\n",
      "+--------------------------+------------------+-----------------+-----------------+----+------------------+-----------------+------------------+-----------------+\n",
      "|DATE                      |CLOSE             |price_change     |gain             |loss|avg_gain          |avg_loss         |rs                |RSI_14           |\n",
      "+--------------------------+------------------+-----------------+-----------------+----+------------------+-----------------+------------------+-----------------+\n",
      "|2024-12-14 16:23:38.220534|225.89999389648438|4.659993896484366|4.659993896484366|0.0 |2.5271424211774547|3.779285714285714|0.6686825533261079|40.07248424772309|\n",
      "+--------------------------+------------------+-----------------+-----------------+----+------------------+-----------------+------------------+-----------------+\n",
      "\n"
     ]
    },
    {
     "name": "stderr",
     "output_type": "stream",
     "text": [
      "                                                                                \r"
     ]
    },
    {
     "name": "stdout",
     "output_type": "stream",
     "text": [
      "+--------------------------+--------+-----------------+-----------------+----+-----------------+-----------------+------------------+------------------+\n",
      "|DATE                      |CLOSE   |price_change     |gain             |loss|avg_gain         |avg_loss         |rs                |RSI_14            |\n",
      "+--------------------------+--------+-----------------+-----------------+----+-----------------+-----------------+------------------+------------------+\n",
      "|2024-12-14 16:23:38.220534|101644.0|1746.199999999997|1746.199999999997|0.0 |946.7571428571422|650.0828571428564|1.4563638041744136|59.289418029179075|\n",
      "+--------------------------+--------+-----------------+-----------------+----+-----------------+-----------------+------------------+------------------+\n",
      "\n",
      "+--------------------------+------------------+--------------------+--------------------+----+------------------+--------------------+------------------+------------------+\n",
      "|DATE                      |CLOSE             |price_change        |gain                |loss|avg_gain          |avg_loss            |rs                |RSI_14            |\n",
      "+--------------------------+------------------+--------------------+--------------------+----+------------------+--------------------+------------------+------------------+\n",
      "|2024-12-14 16:23:38.220534|0.6176900267601013|0.006290026760101264|0.006290026760101264|0.0 |0.0158850019114358|0.013442857142857137|1.1816685800217923|54.163523774540906|\n",
      "+--------------------------+------------------+--------------------+--------------------+----+------------------+--------------------+------------------+------------------+\n",
      "\n"
     ]
    },
    {
     "name": "stderr",
     "output_type": "stream",
     "text": [
      "                                                                                \r"
     ]
    },
    {
     "name": "stdout",
     "output_type": "stream",
     "text": [
      "+--------------------------+-----------------+-----------------+-----------------+----+------------------+-----------------+------------------+-----------------+\n",
      "|DATE                      |CLOSE            |price_change     |gain             |loss|avg_gain          |avg_loss         |rs                |RSI_14           |\n",
      "+--------------------------+-----------------+-----------------+-----------------+----+------------------+-----------------+------------------+-----------------+\n",
      "|2024-12-14 16:23:38.220534|3917.010009765625|30.63000976562489|30.63000976562489|0.0 |60.429286411830354|37.33357142857143|1.6186312774133294|61.81211121148011|\n",
      "+--------------------------+-----------------+-----------------+-----------------+----+------------------+-----------------+------------------+-----------------+\n",
      "\n",
      "+--------------------------+-------------------+--------------------+--------------------+----+--------------------+--------------------+------------------+------------------+\n",
      "|DATE                      |CLOSE              |price_change        |gain                |loss|avg_gain            |avg_loss            |rs                |RSI_14            |\n",
      "+--------------------------+-------------------+--------------------+--------------------+----+--------------------+--------------------+------------------+------------------+\n",
      "|2024-12-14 16:23:38.220534|0.40730300545692444|0.004292605456924448|0.004292605456924448|0.0 |0.006629136104066029|0.007998207142857141|0.8288277592292954|45.320165064564634|\n",
      "+--------------------------+-------------------+--------------------+--------------------+----+--------------------+--------------------+------------------+------------------+\n",
      "\n",
      "+--------------------------+------------------+----------------------+----+---------------------+---------------------+---------------------+------------------+------------------+\n",
      "|DATE                      |CLOSE             |price_change          |gain|loss                 |avg_gain             |avg_loss             |rs                |RSI_14            |\n",
      "+--------------------------+------------------+----------------------+----+---------------------+---------------------+---------------------+------------------+------------------+\n",
      "|2024-12-14 16:23:38.220534|0.9998670220375061|-1.3297796249389648E-4|0.0 |1.3297796249389648E-4|2.8571428571425423E-5|3.0926997320990246E-5|0.9238345473659646|48.020478093131295|\n",
      "+--------------------------+------------------+----------------------+----+---------------------+---------------------+---------------------+------------------+------------------+\n",
      "\n",
      "+--------------------------+------------------+----------------------+----+---------------------+---------------------+---------------------+------------------+-----------------+\n",
      "|DATE                      |CLOSE             |price_change          |gain|loss                 |avg_gain             |avg_loss             |rs                |RSI_14           |\n",
      "+--------------------------+------------------+----------------------+----+---------------------+---------------------+---------------------+------------------+-----------------+\n",
      "|2024-12-14 16:23:38.220534|0.9999120235443115|-2.0797645568837453E-4|0.0 |2.0797645568837453E-4|1.5214285714285465E-4|1.8699831826345697E-4|0.8136054834915928|44.86121655991147|\n",
      "+--------------------------+------------------+----------------------+----+---------------------+---------------------+---------------------+------------------+-----------------+\n",
      "\n"
     ]
    },
    {
     "name": "stderr",
     "output_type": "stream",
     "text": [
      "                                                                                \r"
     ]
    },
    {
     "name": "stdout",
     "output_type": "stream",
     "text": [
      "+--------------------------+------------------+-------------------+-------------------+----+-------------------+-------------------+-----------------+-----------------+\n",
      "|DATE                      |CLOSE             |price_change       |gain               |loss|avg_gain           |avg_loss           |rs               |RSI_14           |\n",
      "+--------------------------+------------------+-------------------+-------------------+----+-------------------+-------------------+-----------------+-----------------+\n",
      "|2024-12-14 16:23:38.220534|2.4600000381469727|0.06096003814697282|0.06096003814697282|0.0 |0.11348714558192663|0.06650142857142859|1.706536957473494|63.05241658575086|\n",
      "+--------------------------+------------------+-------------------+-------------------+----+-------------------+-------------------+-----------------+-----------------+\n",
      "\n",
      "+--------------------------+------------------+--------------------+--------------------+----+--------------------+-------------------+------------------+------------------+\n",
      "|DATE                      |CLOSE             |price_change        |gain                |loss|avg_gain            |avg_loss           |rs                |RSI_14            |\n",
      "+--------------------------+------------------+--------------------+--------------------+----+--------------------+-------------------+------------------+------------------+\n",
      "|2024-12-14 16:23:38.220534|1.1100000143051147|0.025274014305114667|0.025274014305114667|0.0 |0.024157643878936756|0.02173621428571428|1.1114007048970767|52.638075866856994|\n",
      "+--------------------------+------------------+--------------------+--------------------+----+--------------------+-------------------+------------------+------------------+\n",
      "\n"
     ]
    },
    {
     "name": "stderr",
     "output_type": "stream",
     "text": [
      "24/12/14 16:24:30 WARN WindowExec: No Partition Defined for Window operation! Moving all data to a single partition, this can cause serious performance degradation.\n",
      "24/12/14 16:24:30 WARN WindowExec: No Partition Defined for Window operation! Moving all data to a single partition, this can cause serious performance degradation.\n",
      "24/12/14 16:24:30 WARN WindowExec: No Partition Defined for Window operation! Moving all data to a single partition, this can cause serious performance degradation.\n",
      "24/12/14 16:24:30 WARN WindowExec: No Partition Defined for Window operation! Moving all data to a single partition, this can cause serious performance degradation.\n",
      "24/12/14 16:24:30 WARN WindowExec: No Partition Defined for Window operation! Moving all data to a single partition, this can cause serious performance degradation.\n",
      "24/12/14 16:24:30 WARN WindowExec: No Partition Defined for Window operation! Moving all data to a single partition, this can cause serious performance degradation.\n",
      "24/12/14 16:24:30 WARN WindowExec: No Partition Defined for Window operation! Moving all data to a single partition, this can cause serious performance degradation.\n",
      "24/12/14 16:24:30 WARN WindowExec: No Partition Defined for Window operation! Moving all data to a single partition, this can cause serious performance degradation.\n",
      "24/12/14 16:24:30 WARN WindowExec: No Partition Defined for Window operation! Moving all data to a single partition, this can cause serious performance degradation.\n",
      "24/12/14 16:24:30 WARN WindowExec: No Partition Defined for Window operation! Moving all data to a single partition, this can cause serious performance degradation.\n",
      "24/12/14 16:24:30 WARN WindowExec: No Partition Defined for Window operation! Moving all data to a single partition, this can cause serious performance degradation.\n",
      "24/12/14 16:24:30 WARN WindowExec: No Partition Defined for Window operation! Moving all data to a single partition, this can cause serious performance degradation.\n",
      "24/12/14 16:24:30 WARN WindowExec: No Partition Defined for Window operation! Moving all data to a single partition, this can cause serious performance degradation.\n",
      "24/12/14 16:24:30 WARN WindowExec: No Partition Defined for Window operation! Moving all data to a single partition, this can cause serious performance degradation.\n",
      "24/12/14 16:24:30 WARN WindowExec: No Partition Defined for Window operation! Moving all data to a single partition, this can cause serious performance degradation.\n",
      "24/12/14 16:24:30 WARN WindowExec: No Partition Defined for Window operation! Moving all data to a single partition, this can cause serious performance degradation.\n",
      "24/12/14 16:24:30 WARN WindowExec: No Partition Defined for Window operation! Moving all data to a single partition, this can cause serious performance degradation.\n",
      "24/12/14 16:24:30 WARN WindowExec: No Partition Defined for Window operation! Moving all data to a single partition, this can cause serious performance degradation.\n",
      "24/12/14 16:24:30 WARN WindowExec: No Partition Defined for Window operation! Moving all data to a single partition, this can cause serious performance degradation.\n",
      "24/12/14 16:24:30 WARN WindowExec: No Partition Defined for Window operation! Moving all data to a single partition, this can cause serious performance degradation.\n",
      "24/12/14 16:24:30 WARN WindowExec: No Partition Defined for Window operation! Moving all data to a single partition, this can cause serious performance degradation.\n",
      "24/12/14 16:24:30 WARN WindowExec: No Partition Defined for Window operation! Moving all data to a single partition, this can cause serious performance degradation.\n",
      "24/12/14 16:24:30 WARN WindowExec: No Partition Defined for Window operation! Moving all data to a single partition, this can cause serious performance degradation.\n",
      "24/12/14 16:24:30 WARN WindowExec: No Partition Defined for Window operation! Moving all data to a single partition, this can cause serious performance degradation.\n",
      "24/12/14 16:24:30 WARN WindowExec: No Partition Defined for Window operation! Moving all data to a single partition, this can cause serious performance degradation.\n",
      "24/12/14 16:24:30 WARN WindowExec: No Partition Defined for Window operation! Moving all data to a single partition, this can cause serious performance degradation.\n",
      "24/12/14 16:24:30 WARN WindowExec: No Partition Defined for Window operation! Moving all data to a single partition, this can cause serious performance degradation.\n",
      "24/12/14 16:24:30 WARN WindowExec: No Partition Defined for Window operation! Moving all data to a single partition, this can cause serious performance degradation.\n",
      "24/12/14 16:24:30 WARN WindowExec: No Partition Defined for Window operation! Moving all data to a single partition, this can cause serious performance degradation.\n",
      "24/12/14 16:24:30 WARN WindowExec: No Partition Defined for Window operation! Moving all data to a single partition, this can cause serious performance degradation.\n",
      "24/12/14 16:24:30 WARN WindowExec: No Partition Defined for Window operation! Moving all data to a single partition, this can cause serious performance degradation.\n",
      "24/12/14 16:24:30 WARN WindowExec: No Partition Defined for Window operation! Moving all data to a single partition, this can cause serious performance degradation.\n",
      "24/12/14 16:24:30 WARN WindowExec: No Partition Defined for Window operation! Moving all data to a single partition, this can cause serious performance degradation.\n",
      "24/12/14 16:24:30 WARN WindowExec: No Partition Defined for Window operation! Moving all data to a single partition, this can cause serious performance degradation.\n",
      "24/12/14 16:24:30 WARN WindowExec: No Partition Defined for Window operation! Moving all data to a single partition, this can cause serious performance degradation.\n",
      "24/12/14 16:24:30 WARN WindowExec: No Partition Defined for Window operation! Moving all data to a single partition, this can cause serious performance degradation.\n",
      "24/12/14 16:24:30 WARN WindowExec: No Partition Defined for Window operation! Moving all data to a single partition, this can cause serious performance degradation.\n",
      "24/12/14 16:24:30 WARN WindowExec: No Partition Defined for Window operation! Moving all data to a single partition, this can cause serious performance degradation.\n",
      "24/12/14 16:24:30 WARN WindowExec: No Partition Defined for Window operation! Moving all data to a single partition, this can cause serious performance degradation.\n",
      "24/12/14 16:24:30 WARN WindowExec: No Partition Defined for Window operation! Moving all data to a single partition, this can cause serious performance degradation.\n",
      "24/12/14 16:24:30 WARN WindowExec: No Partition Defined for Window operation! Moving all data to a single partition, this can cause serious performance degradation.\n",
      "24/12/14 16:24:30 WARN WindowExec: No Partition Defined for Window operation! Moving all data to a single partition, this can cause serious performance degradation.\n",
      "24/12/14 16:24:30 WARN WindowExec: No Partition Defined for Window operation! Moving all data to a single partition, this can cause serious performance degradation.\n",
      "24/12/14 16:24:30 WARN WindowExec: No Partition Defined for Window operation! Moving all data to a single partition, this can cause serious performance degradation.\n",
      "24/12/14 16:24:30 WARN WindowExec: No Partition Defined for Window operation! Moving all data to a single partition, this can cause serious performance degradation.\n",
      "24/12/14 16:24:30 WARN WindowExec: No Partition Defined for Window operation! Moving all data to a single partition, this can cause serious performance degradation.\n",
      "24/12/14 16:24:30 WARN WindowExec: No Partition Defined for Window operation! Moving all data to a single partition, this can cause serious performance degradation.\n",
      "24/12/14 16:24:30 WARN WindowExec: No Partition Defined for Window operation! Moving all data to a single partition, this can cause serious performance degradation.\n",
      "24/12/14 16:24:30 WARN WindowExec: No Partition Defined for Window operation! Moving all data to a single partition, this can cause serious performance degradation.\n",
      "24/12/14 16:24:30 WARN WindowExec: No Partition Defined for Window operation! Moving all data to a single partition, this can cause serious performance degradation.\n",
      "24/12/14 16:24:30 WARN WindowExec: No Partition Defined for Window operation! Moving all data to a single partition, this can cause serious performance degradation.\n",
      "24/12/14 16:24:30 WARN WindowExec: No Partition Defined for Window operation! Moving all data to a single partition, this can cause serious performance degradation.\n",
      "24/12/14 16:24:30 WARN WindowExec: No Partition Defined for Window operation! Moving all data to a single partition, this can cause serious performance degradation.\n",
      "24/12/14 16:24:30 WARN WindowExec: No Partition Defined for Window operation! Moving all data to a single partition, this can cause serious performance degradation.\n",
      "                                                                                \r"
     ]
    },
    {
     "name": "stdout",
     "output_type": "stream",
     "text": [
      "+--------------------------+-----------------+-----------------+-----------------+----+------------------+-----------------+------------------+-----------------+\n",
      "|DATE                      |CLOSE            |price_change     |gain             |loss|avg_gain          |avg_loss         |rs                |RSI_14           |\n",
      "+--------------------------+-----------------+-----------------+-----------------+----+------------------+-----------------+------------------+-----------------+\n",
      "|2024-12-14 16:24:27.920937|3917.010009765625|30.63000976562489|30.63000976562489|0.0 |60.429286411830354|37.33357142857143|1.6186312774133294|61.81211121148011|\n",
      "+--------------------------+-----------------+-----------------+-----------------+----+------------------+-----------------+------------------+-----------------+\n",
      "\n",
      "+--------------------------+------------------+----------------------+----+---------------------+---------------------+---------------------+------------------+-----------------+\n",
      "|DATE                      |CLOSE             |price_change          |gain|loss                 |avg_gain             |avg_loss             |rs                |RSI_14           |\n",
      "+--------------------------+------------------+----------------------+----+---------------------+---------------------+---------------------+------------------+-----------------+\n",
      "|2024-12-14 16:24:27.920937|0.9999120235443115|-2.0797645568837453E-4|0.0 |2.0797645568837453E-4|1.5214285714285465E-4|1.8699831826345697E-4|0.8136054834915928|44.86121655991147|\n",
      "+--------------------------+------------------+----------------------+----+---------------------+---------------------+---------------------+------------------+-----------------+\n",
      "\n"
     ]
    },
    {
     "name": "stderr",
     "output_type": "stream",
     "text": [
      "                                                                                \r"
     ]
    },
    {
     "name": "stdout",
     "output_type": "stream",
     "text": [
      "+--------------------------+------------------+-----------------+-----------------+----+------------------+-----------------+------------------+-----------------+\n",
      "|DATE                      |CLOSE             |price_change     |gain             |loss|avg_gain          |avg_loss         |rs                |RSI_14           |\n",
      "+--------------------------+------------------+-----------------+-----------------+----+------------------+-----------------+------------------+-----------------+\n",
      "|2024-12-14 16:24:27.920937|225.89999389648438|4.659993896484366|4.659993896484366|0.0 |2.5271424211774547|3.779285714285714|0.6686825533261079|40.07248424772309|\n",
      "+--------------------------+------------------+-----------------+-----------------+----+------------------+-----------------+------------------+-----------------+\n",
      "\n"
     ]
    },
    {
     "name": "stderr",
     "output_type": "stream",
     "text": [
      "                                                                                \r"
     ]
    },
    {
     "name": "stdout",
     "output_type": "stream",
     "text": [
      "+--------------------------+-------------------+--------------------+--------------------+----+--------------------+--------------------+------------------+------------------+\n",
      "|DATE                      |CLOSE              |price_change        |gain                |loss|avg_gain            |avg_loss            |rs                |RSI_14            |\n",
      "+--------------------------+-------------------+--------------------+--------------------+----+--------------------+--------------------+------------------+------------------+\n",
      "|2024-12-14 16:24:27.920937|0.40730300545692444|0.004292605456924448|0.004292605456924448|0.0 |0.006629136104066029|0.007998207142857141|0.8288277592292954|45.320165064564634|\n",
      "+--------------------------+-------------------+--------------------+--------------------+----+--------------------+--------------------+------------------+------------------+\n",
      "\n"
     ]
    },
    {
     "name": "stderr",
     "output_type": "stream",
     "text": [
      "                                                                                \r"
     ]
    },
    {
     "name": "stdout",
     "output_type": "stream",
     "text": [
      "+--------------------------+------------------+----------------------+----+---------------------+---------------------+---------------------+------------------+-----------------+\n",
      "|DATE                      |CLOSE             |price_change          |gain|loss                 |avg_gain             |avg_loss             |rs                |RSI_14           |\n",
      "+--------------------------+------------------+----------------------+----+---------------------+---------------------+---------------------+------------------+-----------------+\n",
      "|2024-12-14 16:24:27.920937|0.9999120235443115|-2.0797645568837453E-4|0.0 |2.0797645568837453E-4|1.5214285714285465E-4|1.8699831826345697E-4|0.8136054834915928|44.86121655991147|\n",
      "+--------------------------+------------------+----------------------+----+---------------------+---------------------+---------------------+------------------+-----------------+\n",
      "\n"
     ]
    },
    {
     "name": "stderr",
     "output_type": "stream",
     "text": [
      "                                                                                \r"
     ]
    },
    {
     "name": "stdout",
     "output_type": "stream",
     "text": [
      "+--------------------------+------------------+--------------------+--------------------+----+------------------+--------------------+------------------+------------------+\n",
      "|DATE                      |CLOSE             |price_change        |gain                |loss|avg_gain          |avg_loss            |rs                |RSI_14            |\n",
      "+--------------------------+------------------+--------------------+--------------------+----+------------------+--------------------+------------------+------------------+\n",
      "|2024-12-14 16:24:27.920937|0.6176900267601013|0.006290026760101264|0.006290026760101264|0.0 |0.0158850019114358|0.013442857142857137|1.1816685800217923|54.163523774540906|\n",
      "+--------------------------+------------------+--------------------+--------------------+----+------------------+--------------------+------------------+------------------+\n",
      "\n"
     ]
    },
    {
     "name": "stderr",
     "output_type": "stream",
     "text": [
      "                                                                                \r"
     ]
    },
    {
     "name": "stdout",
     "output_type": "stream",
     "text": [
      "+--------------------------+--------+-----------------+-----------------+----+-----------------+-----------------+------------------+------------------+\n",
      "|DATE                      |CLOSE   |price_change     |gain             |loss|avg_gain         |avg_loss         |rs                |RSI_14            |\n",
      "+--------------------------+--------+-----------------+-----------------+----+-----------------+-----------------+------------------+------------------+\n",
      "|2024-12-14 16:24:27.920937|101644.0|1746.199999999997|1746.199999999997|0.0 |946.7571428571422|650.0828571428564|1.4563638041744136|59.289418029179075|\n",
      "+--------------------------+--------+-----------------+-----------------+----+-----------------+-----------------+------------------+------------------+\n",
      "\n",
      "+--------------------------+-----------------+-----------------+-----------------+----+------------------+-----------------+------------------+-----------------+\n",
      "|DATE                      |CLOSE            |price_change     |gain             |loss|avg_gain          |avg_loss         |rs                |RSI_14           |\n",
      "+--------------------------+-----------------+-----------------+-----------------+----+------------------+-----------------+------------------+-----------------+\n",
      "|2024-12-14 16:24:27.920937|3917.010009765625|30.63000976562489|30.63000976562489|0.0 |60.429286411830354|37.33357142857143|1.6186312774133294|61.81211121148011|\n",
      "+--------------------------+-----------------+-----------------+-----------------+----+------------------+-----------------+------------------+-----------------+\n",
      "\n"
     ]
    },
    {
     "name": "stderr",
     "output_type": "stream",
     "text": [
      "ERROR:root:KeyboardInterrupt while sending command.                             \n",
      "Traceback (most recent call last):\n",
      "  File \"/Users/ibulmnie/Documents/20241/BigData/crypto-big-data/spark-env/lib/python3.12/site-packages/py4j/java_gateway.py\", line 1038, in send_command\n",
      "    response = connection.send_command(command)\n",
      "               ^^^^^^^^^^^^^^^^^^^^^^^^^^^^^^^^\n",
      "  File \"/Users/ibulmnie/Documents/20241/BigData/crypto-big-data/spark-env/lib/python3.12/site-packages/py4j/clientserver.py\", line 511, in send_command\n",
      "    answer = smart_decode(self.stream.readline()[:-1])\n",
      "                          ^^^^^^^^^^^^^^^^^^^^^^\n",
      "  File \"/Library/Frameworks/Python.framework/Versions/3.12/lib/python3.12/socket.py\", line 707, in readinto\n",
      "    return self._sock.recv_into(b)\n",
      "           ^^^^^^^^^^^^^^^^^^^^^^^\n",
      "KeyboardInterrupt\n"
     ]
    },
    {
     "name": "stdout",
     "output_type": "stream",
     "text": [
      "+--------------------------+------------------+-------------------+-------------------+----+-------------------+-------------------+-----------------+-----------------+\n",
      "|DATE                      |CLOSE             |price_change       |gain               |loss|avg_gain           |avg_loss           |rs               |RSI_14           |\n",
      "+--------------------------+------------------+-------------------+-------------------+----+-------------------+-------------------+-----------------+-----------------+\n",
      "|2024-12-14 16:24:27.920937|2.4600000381469727|0.06096003814697282|0.06096003814697282|0.0 |0.11348714558192663|0.06650142857142859|1.706536957473494|63.05241658575086|\n",
      "+--------------------------+------------------+-------------------+-------------------+----+-------------------+-------------------+-----------------+-----------------+\n",
      "\n"
     ]
    },
    {
     "ename": "KeyboardInterrupt",
     "evalue": "",
     "output_type": "error",
     "traceback": [
      "\u001b[0;31m---------------------------------------------------------------------------\u001b[0m",
      "\u001b[0;31mKeyboardInterrupt\u001b[0m                         Traceback (most recent call last)",
      "Cell \u001b[0;32mIn[10], line 144\u001b[0m\n\u001b[1;32m    139\u001b[0m \u001b[38;5;66;03m# Thực thi stream\u001b[39;00m\n\u001b[1;32m    140\u001b[0m query \u001b[38;5;241m=\u001b[39m crypto_parsed_df\u001b[38;5;241m.\u001b[39mwriteStream \\\n\u001b[1;32m    141\u001b[0m     \u001b[38;5;241m.\u001b[39mforeachBatch(process_batch) \\\n\u001b[1;32m    142\u001b[0m     \u001b[38;5;241m.\u001b[39mstart()\n\u001b[0;32m--> 144\u001b[0m \u001b[43mquery\u001b[49m\u001b[38;5;241;43m.\u001b[39;49m\u001b[43mawaitTermination\u001b[49m\u001b[43m(\u001b[49m\u001b[43m)\u001b[49m\n",
      "File \u001b[0;32m~/Documents/20241/BigData/crypto-big-data/spark-env/lib/python3.12/site-packages/pyspark/sql/streaming/query.py:221\u001b[0m, in \u001b[0;36mStreamingQuery.awaitTermination\u001b[0;34m(self, timeout)\u001b[0m\n\u001b[1;32m    219\u001b[0m     \u001b[38;5;28;01mreturn\u001b[39;00m \u001b[38;5;28mself\u001b[39m\u001b[38;5;241m.\u001b[39m_jsq\u001b[38;5;241m.\u001b[39mawaitTermination(\u001b[38;5;28mint\u001b[39m(timeout \u001b[38;5;241m*\u001b[39m \u001b[38;5;241m1000\u001b[39m))\n\u001b[1;32m    220\u001b[0m \u001b[38;5;28;01melse\u001b[39;00m:\n\u001b[0;32m--> 221\u001b[0m     \u001b[38;5;28;01mreturn\u001b[39;00m \u001b[38;5;28;43mself\u001b[39;49m\u001b[38;5;241;43m.\u001b[39;49m\u001b[43m_jsq\u001b[49m\u001b[38;5;241;43m.\u001b[39;49m\u001b[43mawaitTermination\u001b[49m\u001b[43m(\u001b[49m\u001b[43m)\u001b[49m\n",
      "File \u001b[0;32m~/Documents/20241/BigData/crypto-big-data/spark-env/lib/python3.12/site-packages/py4j/java_gateway.py:1321\u001b[0m, in \u001b[0;36mJavaMember.__call__\u001b[0;34m(self, *args)\u001b[0m\n\u001b[1;32m   1314\u001b[0m args_command, temp_args \u001b[38;5;241m=\u001b[39m \u001b[38;5;28mself\u001b[39m\u001b[38;5;241m.\u001b[39m_build_args(\u001b[38;5;241m*\u001b[39margs)\n\u001b[1;32m   1316\u001b[0m command \u001b[38;5;241m=\u001b[39m proto\u001b[38;5;241m.\u001b[39mCALL_COMMAND_NAME \u001b[38;5;241m+\u001b[39m\\\n\u001b[1;32m   1317\u001b[0m     \u001b[38;5;28mself\u001b[39m\u001b[38;5;241m.\u001b[39mcommand_header \u001b[38;5;241m+\u001b[39m\\\n\u001b[1;32m   1318\u001b[0m     args_command \u001b[38;5;241m+\u001b[39m\\\n\u001b[1;32m   1319\u001b[0m     proto\u001b[38;5;241m.\u001b[39mEND_COMMAND_PART\n\u001b[0;32m-> 1321\u001b[0m answer \u001b[38;5;241m=\u001b[39m \u001b[38;5;28;43mself\u001b[39;49m\u001b[38;5;241;43m.\u001b[39;49m\u001b[43mgateway_client\u001b[49m\u001b[38;5;241;43m.\u001b[39;49m\u001b[43msend_command\u001b[49m\u001b[43m(\u001b[49m\u001b[43mcommand\u001b[49m\u001b[43m)\u001b[49m\n\u001b[1;32m   1322\u001b[0m return_value \u001b[38;5;241m=\u001b[39m get_return_value(\n\u001b[1;32m   1323\u001b[0m     answer, \u001b[38;5;28mself\u001b[39m\u001b[38;5;241m.\u001b[39mgateway_client, \u001b[38;5;28mself\u001b[39m\u001b[38;5;241m.\u001b[39mtarget_id, \u001b[38;5;28mself\u001b[39m\u001b[38;5;241m.\u001b[39mname)\n\u001b[1;32m   1325\u001b[0m \u001b[38;5;28;01mfor\u001b[39;00m temp_arg \u001b[38;5;129;01min\u001b[39;00m temp_args:\n",
      "File \u001b[0;32m~/Documents/20241/BigData/crypto-big-data/spark-env/lib/python3.12/site-packages/py4j/java_gateway.py:1038\u001b[0m, in \u001b[0;36mGatewayClient.send_command\u001b[0;34m(self, command, retry, binary)\u001b[0m\n\u001b[1;32m   1036\u001b[0m connection \u001b[38;5;241m=\u001b[39m \u001b[38;5;28mself\u001b[39m\u001b[38;5;241m.\u001b[39m_get_connection()\n\u001b[1;32m   1037\u001b[0m \u001b[38;5;28;01mtry\u001b[39;00m:\n\u001b[0;32m-> 1038\u001b[0m     response \u001b[38;5;241m=\u001b[39m \u001b[43mconnection\u001b[49m\u001b[38;5;241;43m.\u001b[39;49m\u001b[43msend_command\u001b[49m\u001b[43m(\u001b[49m\u001b[43mcommand\u001b[49m\u001b[43m)\u001b[49m\n\u001b[1;32m   1039\u001b[0m     \u001b[38;5;28;01mif\u001b[39;00m binary:\n\u001b[1;32m   1040\u001b[0m         \u001b[38;5;28;01mreturn\u001b[39;00m response, \u001b[38;5;28mself\u001b[39m\u001b[38;5;241m.\u001b[39m_create_connection_guard(connection)\n",
      "File \u001b[0;32m~/Documents/20241/BigData/crypto-big-data/spark-env/lib/python3.12/site-packages/py4j/clientserver.py:511\u001b[0m, in \u001b[0;36mClientServerConnection.send_command\u001b[0;34m(self, command)\u001b[0m\n\u001b[1;32m    509\u001b[0m \u001b[38;5;28;01mtry\u001b[39;00m:\n\u001b[1;32m    510\u001b[0m     \u001b[38;5;28;01mwhile\u001b[39;00m \u001b[38;5;28;01mTrue\u001b[39;00m:\n\u001b[0;32m--> 511\u001b[0m         answer \u001b[38;5;241m=\u001b[39m smart_decode(\u001b[38;5;28;43mself\u001b[39;49m\u001b[38;5;241;43m.\u001b[39;49m\u001b[43mstream\u001b[49m\u001b[38;5;241;43m.\u001b[39;49m\u001b[43mreadline\u001b[49m\u001b[43m(\u001b[49m\u001b[43m)\u001b[49m[:\u001b[38;5;241m-\u001b[39m\u001b[38;5;241m1\u001b[39m])\n\u001b[1;32m    512\u001b[0m         logger\u001b[38;5;241m.\u001b[39mdebug(\u001b[38;5;124m\"\u001b[39m\u001b[38;5;124mAnswer received: \u001b[39m\u001b[38;5;132;01m{0}\u001b[39;00m\u001b[38;5;124m\"\u001b[39m\u001b[38;5;241m.\u001b[39mformat(answer))\n\u001b[1;32m    513\u001b[0m         \u001b[38;5;66;03m# Happens when a the other end is dead. There might be an empty\u001b[39;00m\n\u001b[1;32m    514\u001b[0m         \u001b[38;5;66;03m# answer before the socket raises an error.\u001b[39;00m\n",
      "File \u001b[0;32m/Library/Frameworks/Python.framework/Versions/3.12/lib/python3.12/socket.py:707\u001b[0m, in \u001b[0;36mSocketIO.readinto\u001b[0;34m(self, b)\u001b[0m\n\u001b[1;32m    705\u001b[0m \u001b[38;5;28;01mwhile\u001b[39;00m \u001b[38;5;28;01mTrue\u001b[39;00m:\n\u001b[1;32m    706\u001b[0m     \u001b[38;5;28;01mtry\u001b[39;00m:\n\u001b[0;32m--> 707\u001b[0m         \u001b[38;5;28;01mreturn\u001b[39;00m \u001b[38;5;28;43mself\u001b[39;49m\u001b[38;5;241;43m.\u001b[39;49m\u001b[43m_sock\u001b[49m\u001b[38;5;241;43m.\u001b[39;49m\u001b[43mrecv_into\u001b[49m\u001b[43m(\u001b[49m\u001b[43mb\u001b[49m\u001b[43m)\u001b[49m\n\u001b[1;32m    708\u001b[0m     \u001b[38;5;28;01mexcept\u001b[39;00m timeout:\n\u001b[1;32m    709\u001b[0m         \u001b[38;5;28mself\u001b[39m\u001b[38;5;241m.\u001b[39m_timeout_occurred \u001b[38;5;241m=\u001b[39m \u001b[38;5;28;01mTrue\u001b[39;00m\n",
      "\u001b[0;31mKeyboardInterrupt\u001b[0m: "
     ]
    },
    {
     "name": "stdout",
     "output_type": "stream",
     "text": [
      "+--------------------------+--------+-----------------+-----------------+----+-----------------+-----------------+------------------+------------------+\n",
      "|DATE                      |CLOSE   |price_change     |gain             |loss|avg_gain         |avg_loss         |rs                |RSI_14            |\n",
      "+--------------------------+--------+-----------------+-----------------+----+-----------------+-----------------+------------------+------------------+\n",
      "|2024-12-14 16:24:27.920937|101644.0|1746.199999999997|1746.199999999997|0.0 |946.7571428571422|650.0828571428564|1.4563638041744136|59.289418029179075|\n",
      "+--------------------------+--------+-----------------+-----------------+----+-----------------+-----------------+------------------+------------------+\n",
      "\n"
     ]
    },
    {
     "name": "stderr",
     "output_type": "stream",
     "text": [
      "                                                                                \r"
     ]
    },
    {
     "name": "stdout",
     "output_type": "stream",
     "text": [
      "+--------------------------+------------------+-------------------+-------------------+----+-------------------+-------------------+-----------------+-----------------+\n",
      "|DATE                      |CLOSE             |price_change       |gain               |loss|avg_gain           |avg_loss           |rs               |RSI_14           |\n",
      "+--------------------------+------------------+-------------------+-------------------+----+-------------------+-------------------+-----------------+-----------------+\n",
      "|2024-12-14 16:24:27.920937|2.4600000381469727|0.06096003814697282|0.06096003814697282|0.0 |0.11348714558192663|0.06650142857142859|1.706536957473494|63.05241658575086|\n",
      "+--------------------------+------------------+-------------------+-------------------+----+-------------------+-------------------+-----------------+-----------------+\n",
      "\n"
     ]
    },
    {
     "name": "stderr",
     "output_type": "stream",
     "text": [
      "                                                                                \r"
     ]
    },
    {
     "name": "stdout",
     "output_type": "stream",
     "text": [
      "+--------------------------+------------------+--------------------+--------------------+----+------------------+--------------------+------------------+------------------+\n",
      "|DATE                      |CLOSE             |price_change        |gain                |loss|avg_gain          |avg_loss            |rs                |RSI_14            |\n",
      "+--------------------------+------------------+--------------------+--------------------+----+------------------+--------------------+------------------+------------------+\n",
      "|2024-12-14 16:24:27.920937|0.6176900267601013|0.006290026760101264|0.006290026760101264|0.0 |0.0158850019114358|0.013442857142857137|1.1816685800217923|54.163523774540906|\n",
      "+--------------------------+------------------+--------------------+--------------------+----+------------------+--------------------+------------------+------------------+\n",
      "\n",
      "+--------------------------+-------------------+--------------------+--------------------+----+--------------------+--------------------+------------------+------------------+\n",
      "|DATE                      |CLOSE              |price_change        |gain                |loss|avg_gain            |avg_loss            |rs                |RSI_14            |\n",
      "+--------------------------+-------------------+--------------------+--------------------+----+--------------------+--------------------+------------------+------------------+\n",
      "|2024-12-14 16:24:27.920937|0.40730300545692444|0.004292605456924448|0.004292605456924448|0.0 |0.006629136104066029|0.007998207142857141|0.8288277592292954|45.320165064564634|\n",
      "+--------------------------+-------------------+--------------------+--------------------+----+--------------------+--------------------+------------------+------------------+\n",
      "\n"
     ]
    },
    {
     "name": "stderr",
     "output_type": "stream",
     "text": [
      "                                                                                \r"
     ]
    },
    {
     "name": "stdout",
     "output_type": "stream",
     "text": [
      "+--------------------------+------------------+--------------------+--------------------+----+--------------------+-------------------+------------------+------------------+\n",
      "|DATE                      |CLOSE             |price_change        |gain                |loss|avg_gain            |avg_loss           |rs                |RSI_14            |\n",
      "+--------------------------+------------------+--------------------+--------------------+----+--------------------+-------------------+------------------+------------------+\n",
      "|2024-12-14 16:24:27.920937|1.1100000143051147|0.025274014305114667|0.025274014305114667|0.0 |0.024157643878936756|0.02173621428571428|1.1114007048970767|52.638075866856994|\n",
      "+--------------------------+------------------+--------------------+--------------------+----+--------------------+-------------------+------------------+------------------+\n",
      "\n",
      "+--------------------------+------------------+----------------------+----+---------------------+---------------------+---------------------+------------------+------------------+\n",
      "|DATE                      |CLOSE             |price_change          |gain|loss                 |avg_gain             |avg_loss             |rs                |RSI_14            |\n",
      "+--------------------------+------------------+----------------------+----+---------------------+---------------------+---------------------+------------------+------------------+\n",
      "|2024-12-14 16:24:27.920937|0.9998670220375061|-1.3297796249389648E-4|0.0 |1.3297796249389648E-4|2.8571428571425423E-5|3.0926997320990246E-5|0.9238345473659646|48.020478093131295|\n",
      "+--------------------------+------------------+----------------------+----+---------------------+---------------------+---------------------+------------------+------------------+\n",
      "\n"
     ]
    },
    {
     "name": "stderr",
     "output_type": "stream",
     "text": [
      "                                                                                \r"
     ]
    },
    {
     "name": "stdout",
     "output_type": "stream",
     "text": [
      "+--------------------------+------------------+----------------------+----+---------------------+---------------------+---------------------+------------------+------------------+\n",
      "|DATE                      |CLOSE             |price_change          |gain|loss                 |avg_gain             |avg_loss             |rs                |RSI_14            |\n",
      "+--------------------------+------------------+----------------------+----+---------------------+---------------------+---------------------+------------------+------------------+\n",
      "|2024-12-14 16:24:27.920937|0.9998670220375061|-1.3297796249389648E-4|0.0 |1.3297796249389648E-4|2.8571428571425423E-5|3.0926997320990246E-5|0.9238345473659646|48.020478093131295|\n",
      "+--------------------------+------------------+----------------------+----+---------------------+---------------------+---------------------+------------------+------------------+\n",
      "\n",
      "+--------------------------+------------------+--------------------+--------------------+----+--------------------+-------------------+------------------+------------------+\n",
      "|DATE                      |CLOSE             |price_change        |gain                |loss|avg_gain            |avg_loss           |rs                |RSI_14            |\n",
      "+--------------------------+------------------+--------------------+--------------------+----+--------------------+-------------------+------------------+------------------+\n",
      "|2024-12-14 16:24:27.920937|1.1100000143051147|0.025274014305114667|0.025274014305114667|0.0 |0.024157643878936756|0.02173621428571428|1.1114007048970767|52.638075866856994|\n",
      "+--------------------------+------------------+--------------------+--------------------+----+--------------------+-------------------+------------------+------------------+\n",
      "\n",
      "+--------------------------+------------------+-----------------+-----------------+----+------------------+-----------------+------------------+-----------------+\n",
      "|DATE                      |CLOSE             |price_change     |gain             |loss|avg_gain          |avg_loss         |rs                |RSI_14           |\n",
      "+--------------------------+------------------+-----------------+-----------------+----+------------------+-----------------+------------------+-----------------+\n",
      "|2024-12-14 16:24:27.920937|225.89999389648438|4.659993896484366|4.659993896484366|0.0 |2.5271424211774547|3.779285714285714|0.6686825533261079|40.07248424772309|\n",
      "+--------------------------+------------------+-----------------+-----------------+----+------------------+-----------------+------------------+-----------------+\n",
      "\n"
     ]
    }
   ],
   "source": [
    "from pyspark.sql import functions as F\n",
    "from pyspark.sql.window import Window\n",
    "\n",
    "from concurrent.futures import ThreadPoolExecutor, as_completed\n",
    "import subprocess\n",
    "import os\n",
    "from pyspark.sql import functions as F\n",
    "from pyspark.sql.types import StructType, StructField, StringType, FloatType, DoubleType, IntegerType, LongType\n",
    "\n",
    "# Schema của dữ liệu Kafka\n",
    "schema = StructType([\n",
    "    StructField(\"timestamp\", StringType()),\n",
    "    StructField(\"prices\", StructType([\n",
    "        StructField(\"bitcoin\", FloatType()),\n",
    "        StructField(\"ethereum\", FloatType()),\n",
    "        StructField(\"tether\", FloatType()),\n",
    "        StructField(\"usd-coin\", FloatType()),\n",
    "        StructField(\"ripple\", FloatType()),\n",
    "        StructField(\"cardano\", FloatType()),\n",
    "        StructField(\"dogecoin\", FloatType()),\n",
    "        StructField(\"matic-network\", FloatType()),\n",
    "        StructField(\"solana\", FloatType()),\n",
    "        StructField(\"litecoin\", FloatType()),\n",
    "        StructField(\"polkadot\", FloatType()),\n",
    "        StructField(\"shiba-inu\", FloatType()),\n",
    "        StructField(\"tron\", FloatType()),\n",
    "        StructField(\"cosmos\", FloatType()),\n",
    "        StructField(\"chainlink\", FloatType()),\n",
    "        StructField(\"stellar\", FloatType()),\n",
    "        StructField(\"near\", FloatType()),\n",
    "    ]))\n",
    "])\n",
    "\n",
    "# Đọc dữ liệu từ Kafka\n",
    "kafka_df = spark.readStream \\\n",
    "    .format(\"kafka\") \\\n",
    "    .option(\"kafka.bootstrap.servers\", \"35.206.252.44:9092\") \\\n",
    "    .option(\"subscribe\", \"crypto-pricessss\") \\\n",
    "    .option(\"startingOffsets\", \"latest\") \\\n",
    "    .option(\"maxOffsetsPerTrigger\", 1000) \\\n",
    "    .load()\n",
    "\n",
    "parsed_df = kafka_df.selectExpr(\"CAST(value AS STRING)\") \\\n",
    "    .select(F.from_json(F.col(\"value\"), schema).alias(\"data\"))\n",
    "\n",
    "crypto_parsed_df = parsed_df.select(\n",
    "    F.to_timestamp(F.col(\"data.timestamp\"), \"yyyy-MM-dd'T'HH:mm:ss.SSSSSSXXX\").alias(\"DATE\"),\n",
    "    F.col(\"data.prices.bitcoin\").alias(\"BTC\"),\n",
    "    F.col(\"data.prices.ethereum\").alias(\"ETH\"),\n",
    "    F.col(\"data.prices.tether\").alias(\"USDT\"),\n",
    "    F.col(\"data.prices.usd-coin\").alias(\"USDC\"),\n",
    "    F.col(\"data.prices.ripple\").alias(\"XRP\"),\n",
    "    F.col(\"data.prices.cardano\").alias(\"ADA\"),\n",
    "    F.col(\"data.prices.dogecoin\").alias(\"DOGE\"),\n",
    "    F.col(\"data.prices.matic-network\").alias(\"MATIC\"),\n",
    "    F.col(\"data.prices.solana\").alias(\"SOL\")\n",
    ")\n",
    "\n",
    "column_names = [col for col in crypto_parsed_df.columns if col != 'DATE']\n",
    "\n",
    "historical_schema = StructType([\n",
    "    StructField(\"BASE\", StringType(), True),  \n",
    "    StructField(\"DATE\", StringType(), True),\n",
    "    StructField(\"OPEN\", DoubleType(), True),\n",
    "    StructField(\"HIGH\", DoubleType(), True),\n",
    "    StructField(\"LOW\", DoubleType(), True),\n",
    "    StructField(\"CLOSE\", DoubleType(), True),\n",
    "    StructField(\"VOLUME\", DoubleType(), True),\n",
    "    StructField(\"YEAR\", IntegerType(), True),\n",
    "    StructField(\"MONTH\", IntegerType(), True),\n",
    "    StructField(\"__index_level_0__\", LongType(), True)\n",
    "])\n",
    "\n",
    "\n",
    "def read_historical_data(coin):\n",
    "    return (\n",
    "        spark.read.schema(historical_schema).format(\"parquet\")\n",
    "        .load(f\"gs://crypto-historical-data-2/ver2/{coin}/2024/*\")\n",
    "        .select(F.col(\"DATE\").cast(\"timestamp\"), \"CLOSE\")\n",
    "    )\n",
    "def calculate_rsi(df, window_size=14):\n",
    "    # Tính sự thay đổi của giá\n",
    "    df = df.withColumn(\"price_change\", F.col(\"CLOSE\") - F.lag(\"CLOSE\").over(Window.orderBy(\"DATE\")))\n",
    "    \n",
    "    # Tính Gain và Loss\n",
    "    df = df.withColumn(\"gain\", F.when(F.col(\"price_change\") > 0, F.col(\"price_change\")).otherwise(0))\n",
    "    df = df.withColumn(\"loss\", F.when(F.col(\"price_change\") < 0, -F.col(\"price_change\")).otherwise(0))\n",
    "    \n",
    "    # Tính Average Gain và Average Loss\n",
    "    window_spec = Window.orderBy(\"DATE\").rowsBetween(-window_size + 1, 0)\n",
    "    \n",
    "    df = df.withColumn(\"avg_gain\", F.avg(\"gain\").over(window_spec))\n",
    "    df = df.withColumn(\"avg_loss\", F.avg(\"loss\").over(window_spec))\n",
    "    \n",
    "    # Tính Relative Strength (RS)\n",
    "    df = df.withColumn(\"rs\", F.col(\"avg_gain\") / F.col(\"avg_loss\"))\n",
    "    \n",
    "    # Tính RSI\n",
    "    df = df.withColumn(\"RSI_14\", 100 - (100 / (1 + F.col(\"rs\"))))\n",
    "    \n",
    "    return df\n",
    "\n",
    "def process_coin(coin, micro_batch_latest_df):\n",
    "    historical_data_df = read_historical_data(coin)\n",
    "    micro_batch = micro_batch_latest_df.select(\"DATE\", coin).withColumnRenamed(coin, \"CLOSE\")\n",
    "    combined_df = micro_batch.unionByName(historical_data_df)\n",
    "\n",
    "    # Tính RSI-14\n",
    "    combined_df = calculate_rsi(combined_df)\n",
    "\n",
    "    # Sắp xếp dữ liệu theo ngày\n",
    "    combined_df = combined_df.orderBy(\"DATE\", ascending=False)\n",
    "    \n",
    "    current_date = F.current_date() \n",
    "    combined_df = combined_df.filter(F.col(\"DATE\") >= current_date)\n",
    "\n",
    "    tmp_dir = f\"gs://indicator-crypto/rsi_results/tmp/{coin}\"\n",
    "    combined_df.write.format(\"console\").option(\"truncate\", False).save()\n",
    "    # combined_df.write \\\n",
    "    #     .format(\"csv\") \\\n",
    "    #     .option(\"header\", \"true\") \\\n",
    "    #     .option(\"path\", tmp_dir) \\\n",
    "    #     .mode(\"append\") \\\n",
    "    #     .save()\n",
    "    \n",
    "def process_batch(micro_batch_df, batch_id):\n",
    "    micro_batch_latest_df = (\n",
    "        micro_batch_df\n",
    "        .withColumn(\"row_num\", F.row_number().over(Window.orderBy(F.col(\"DATE\").desc())))\n",
    "        .filter(F.col(\"row_num\") == 1)\n",
    "        .drop(\"row_num\")\n",
    "    )\n",
    "    \n",
    "    with ThreadPoolExecutor() as executor:\n",
    "        futures = [executor.submit(process_coin, coin, micro_batch_latest_df) for coin in column_names]\n",
    "        for future in as_completed(futures):\n",
    "            print(future.result()) \n",
    "\n",
    "# Thực thi stream\n",
    "query = crypto_parsed_df.writeStream \\\n",
    "    .foreachBatch(process_batch) \\\n",
    "    .start()\n",
    "\n",
    "query.awaitTermination()\n"
   ]
  }
 ],
 "metadata": {
  "kernelspec": {
   "display_name": "spark-env",
   "language": "python",
   "name": "python3"
  },
  "language_info": {
   "codemirror_mode": {
    "name": "ipython",
    "version": 3
   },
   "file_extension": ".py",
   "mimetype": "text/x-python",
   "name": "python",
   "nbconvert_exporter": "python",
   "pygments_lexer": "ipython3",
   "version": "3.12.1"
  }
 },
 "nbformat": 4,
 "nbformat_minor": 2
}
