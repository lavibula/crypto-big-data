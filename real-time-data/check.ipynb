{
 "cells": [
  {
   "cell_type": "code",
   "execution_count": 1,
   "metadata": {},
   "outputs": [],
   "source": [
    "import os\n",
    "\n",
    "os.chdir(\"/Users/ibulmnie/Documents/20241/BigData/crypto-big-data/\")"
   ]
  },
  {
   "cell_type": "code",
   "execution_count": 2,
   "metadata": {},
   "outputs": [
    {
     "name": "stderr",
     "output_type": "stream",
     "text": [
      "24/12/11 23:57:45 WARN Utils: Your hostname, MacBook-Pro-cua-My.local resolves to a loopback address: 127.0.0.1; using 192.168.1.6 instead (on interface en0)\n",
      "24/12/11 23:57:45 WARN Utils: Set SPARK_LOCAL_IP if you need to bind to another address\n"
     ]
    },
    {
     "name": "stdout",
     "output_type": "stream",
     "text": [
      ":: loading settings :: url = jar:file:/Users/ibulmnie/Documents/20241/BigData/crypto-big-data/spark-env/lib/python3.12/site-packages/pyspark/jars/ivy-2.5.1.jar!/org/apache/ivy/core/settings/ivysettings.xml\n"
     ]
    },
    {
     "name": "stderr",
     "output_type": "stream",
     "text": [
      "Ivy Default Cache set to: /Users/ibulmnie/.ivy2/cache\n",
      "The jars for the packages stored in: /Users/ibulmnie/.ivy2/jars\n",
      "org.apache.spark#spark-sql-kafka-0-10_2.12 added as a dependency\n",
      ":: resolving dependencies :: org.apache.spark#spark-submit-parent-c0a48bcd-762d-46e4-aa53-62f5863b6a20;1.0\n",
      "\tconfs: [default]\n",
      "\tfound org.apache.spark#spark-sql-kafka-0-10_2.12;3.3.0 in central\n",
      "\tfound org.apache.spark#spark-token-provider-kafka-0-10_2.12;3.3.0 in central\n",
      "\tfound org.apache.kafka#kafka-clients;2.8.1 in central\n",
      "\tfound org.lz4#lz4-java;1.8.0 in central\n",
      "\tfound org.xerial.snappy#snappy-java;1.1.8.4 in central\n",
      "\tfound org.slf4j#slf4j-api;1.7.32 in central\n",
      "\tfound org.apache.hadoop#hadoop-client-runtime;3.3.2 in central\n",
      "\tfound org.spark-project.spark#unused;1.0.0 in central\n",
      "\tfound org.apache.hadoop#hadoop-client-api;3.3.2 in central\n",
      "\tfound commons-logging#commons-logging;1.1.3 in central\n",
      "\tfound com.google.code.findbugs#jsr305;3.0.0 in central\n",
      "\tfound org.apache.commons#commons-pool2;2.11.1 in central\n",
      ":: resolution report :: resolve 611ms :: artifacts dl 27ms\n",
      "\t:: modules in use:\n",
      "\tcom.google.code.findbugs#jsr305;3.0.0 from central in [default]\n",
      "\tcommons-logging#commons-logging;1.1.3 from central in [default]\n",
      "\torg.apache.commons#commons-pool2;2.11.1 from central in [default]\n",
      "\torg.apache.hadoop#hadoop-client-api;3.3.2 from central in [default]\n",
      "\torg.apache.hadoop#hadoop-client-runtime;3.3.2 from central in [default]\n",
      "\torg.apache.kafka#kafka-clients;2.8.1 from central in [default]\n",
      "\torg.apache.spark#spark-sql-kafka-0-10_2.12;3.3.0 from central in [default]\n",
      "\torg.apache.spark#spark-token-provider-kafka-0-10_2.12;3.3.0 from central in [default]\n",
      "\torg.lz4#lz4-java;1.8.0 from central in [default]\n",
      "\torg.slf4j#slf4j-api;1.7.32 from central in [default]\n",
      "\torg.spark-project.spark#unused;1.0.0 from central in [default]\n",
      "\torg.xerial.snappy#snappy-java;1.1.8.4 from central in [default]\n",
      "\t---------------------------------------------------------------------\n",
      "\t|                  |            modules            ||   artifacts   |\n",
      "\t|       conf       | number| search|dwnlded|evicted|| number|dwnlded|\n",
      "\t---------------------------------------------------------------------\n",
      "\t|      default     |   12  |   0   |   0   |   0   ||   12  |   0   |\n",
      "\t---------------------------------------------------------------------\n",
      ":: retrieving :: org.apache.spark#spark-submit-parent-c0a48bcd-762d-46e4-aa53-62f5863b6a20\n",
      "\tconfs: [default]\n",
      "\t0 artifacts copied, 12 already retrieved (0kB/10ms)\n",
      "24/12/11 23:57:46 WARN NativeCodeLoader: Unable to load native-hadoop library for your platform... using builtin-java classes where applicable\n",
      "Setting default log level to \"WARN\".\n",
      "To adjust logging level use sc.setLogLevel(newLevel). For SparkR, use setLogLevel(newLevel).\n",
      "24/12/11 23:57:47 WARN Utils: Service 'SparkUI' could not bind on port 4040. Attempting port 4041.\n",
      "24/12/11 23:57:47 WARN Utils: Service 'SparkUI' could not bind on port 4041. Attempting port 4042.\n"
     ]
    }
   ],
   "source": [
    "import findspark\n",
    "findspark.init()\n",
    "\n",
    "import pyspark\n",
    "from pyspark.sql import SparkSession\n",
    "from pyspark.sql.types import StructType, StructField, StringType, FloatType\n",
    "from pyspark.sql.functions import col, from_json, to_date, avg, lit, to_timestamp\n",
    "from pyspark.sql.window import Window\n",
    "import time\n",
    "import shutil\n",
    "from pyspark.sql.functions import current_timestamp, col, unix_timestamp\n",
    "\n",
    "from datetime import datetime, timedelta\n",
    "\n",
    "\n",
    "import os\n",
    "\n",
    "gcs_jar_path = os.path.abspath(\"config/gcs-connector-hadoop3-latest.jar\")\n",
    "from pyspark.sql import SparkSession\n",
    "\n",
    "# Khởi tạo SparkSession\n",
    "spark = SparkSession.builder \\\n",
    "    .appName(\"hehee\") \\\n",
    "    .config(\"spark.hadoop.fs.gs.impl\", \"com.google.cloud.hadoop.fs.gcs.GoogleHadoopFileSystem\")\\\n",
    "    .config(\"spark.hadoop.fs.AbstractFileSystem.gs.impl\", \"com.google.cloud.hadoop.fs.gcs.GoogleHadoopFS\")\\\n",
    "    .config(\"spark.hadoop.fs.gs.auth.service.account.enable\", \"true\")\\\n",
    "    .config(\"spark.hadoop.fs.gs.auth.service.account.json.keyfile\", \"config/key/btcanalysishust-495a3a227f22.json\") \\\n",
    "    .config(\"spark.jars\", gcs_jar_path) \\\n",
    "    .config(\"spark.jars.packages\", \"org.apache.spark:spark-sql-kafka-0-10_2.12:3.3.0\") \\\n",
    "    .config(\"spark.hadoop.fs.gs.project.id\", \"btcanalysishust\")\\\n",
    "    .getOrCreate()\n"
   ]
  },
  {
   "cell_type": "code",
   "execution_count": 23,
   "metadata": {},
   "outputs": [],
   "source": [
    "df = spark.read.parquet(\"gs://indicator-crypto/sma_results/BTC_CLOSE/part-00000-454539e1-d2c4-4e53-b14f-49d85d8b2d53-c000.snappy.parquet\")"
   ]
  },
  {
   "cell_type": "code",
   "execution_count": 24,
   "metadata": {},
   "outputs": [
    {
     "name": "stdout",
     "output_type": "stream",
     "text": [
      "+----+----+----+----+---+-----+------+----+-----+-----------------+---------+---------+----------+---------+----------+---------+---------+-----------+----------+---------+--------------+---------------+---------------+---------------+----------------+----------------+\n",
      "|BASE|DATE|OPEN|HIGH|LOW|CLOSE|VOLUME|YEAR|MONTH|__index_level_0__|BTC_CLOSE|ETH_CLOSE|USDT_CLOSE|BNB_CLOSE|USDC_CLOSE|XRP_CLOSE|ADA_CLOSE|MATIC_CLOSE|DOGE_CLOSE|SOL_CLOSE|SMA5_BTC_CLOSE|SMA10_BTC_CLOSE|SMA20_BTC_CLOSE|SMA50_BTC_CLOSE|SMA100_BTC_CLOSE|SMA200_BTC_CLOSE|\n",
      "+----+----+----+----+---+-----+------+----+-----+-----------------+---------+---------+----------+---------+----------+---------+---------+-----------+----------+---------+--------------+---------------+---------------+---------------+----------------+----------------+\n",
      "+----+----+----+----+---+-----+------+----+-----+-----------------+---------+---------+----------+---------+----------+---------+---------+-----------+----------+---------+--------------+---------------+---------------+---------------+----------------+----------------+\n",
      "\n"
     ]
    }
   ],
   "source": [
    "df.show(truncate=False)"
   ]
  },
  {
   "cell_type": "code",
   "execution_count": 20,
   "metadata": {},
   "outputs": [
    {
     "name": "stderr",
     "output_type": "stream",
     "text": [
      "24/12/12 00:11:21 WARN ResolveWriteToStream: Temporary checkpoint location created which is deleted normally when the query didn't fail: /private/var/folders/k9/xss4jl9s24sg7_7zhcmrp2g00000gn/T/temporary-d2bb9187-d7e2-4370-9037-020d182d1f72. If it's required to delete it under any circumstances, please set spark.sql.streaming.forceDeleteTempCheckpointLocation to true. Important to know deleting temp checkpoint folder is best effort.\n",
      "24/12/12 00:11:21 WARN ResolveWriteToStream: spark.sql.adaptive.enabled is not supported in streaming DataFrames/Datasets and will be disabled.\n"
     ]
    },
    {
     "name": "stdout",
     "output_type": "stream",
     "text": [
      "-------------------------------------------\n",
      "Batch: 0\n",
      "-------------------------------------------\n",
      "+----+----+----+----+---+-----+------+----+-----+-----------------+---------+---------+----------+---------+----------+---------+---------+-----------+----------+---------+--------------+---------------+---------------+---------------+----------------+----------------+\n",
      "|BASE|DATE|OPEN|HIGH|LOW|CLOSE|VOLUME|YEAR|MONTH|__index_level_0__|BTC_CLOSE|ETH_CLOSE|USDT_CLOSE|BNB_CLOSE|USDC_CLOSE|XRP_CLOSE|ADA_CLOSE|MATIC_CLOSE|DOGE_CLOSE|SOL_CLOSE|SMA5_BTC_CLOSE|SMA10_BTC_CLOSE|SMA20_BTC_CLOSE|SMA50_BTC_CLOSE|SMA100_BTC_CLOSE|SMA200_BTC_CLOSE|\n",
      "+----+----+----+----+---+-----+------+----+-----+-----------------+---------+---------+----------+---------+----------+---------+---------+-----------+----------+---------+--------------+---------------+---------------+---------------+----------------+----------------+\n",
      "+----+----+----+----+---+-----+------+----+-----+-----------------+---------+---------+----------+---------+----------+---------+---------+-----------+----------+---------+--------------+---------------+---------------+---------------+----------------+----------------+\n",
      "\n",
      "-------------------------------------------\n",
      "Batch: 1\n",
      "-------------------------------------------\n",
      "+----+----+----+----+---+-----+------+----+-----+-----------------+---------+---------+----------+---------+----------+---------+---------+-----------+----------+---------+--------------+---------------+---------------+---------------+----------------+----------------+\n",
      "|BASE|DATE|OPEN|HIGH|LOW|CLOSE|VOLUME|YEAR|MONTH|__index_level_0__|BTC_CLOSE|ETH_CLOSE|USDT_CLOSE|BNB_CLOSE|USDC_CLOSE|XRP_CLOSE|ADA_CLOSE|MATIC_CLOSE|DOGE_CLOSE|SOL_CLOSE|SMA5_BTC_CLOSE|SMA10_BTC_CLOSE|SMA20_BTC_CLOSE|SMA50_BTC_CLOSE|SMA100_BTC_CLOSE|SMA200_BTC_CLOSE|\n",
      "+----+----+----+----+---+-----+------+----+-----+-----------------+---------+---------+----------+---------+----------+---------+---------+-----------+----------+---------+--------------+---------------+---------------+---------------+----------------+----------------+\n",
      "+----+----+----+----+---+-----+------+----+-----+-----------------+---------+---------+----------+---------+----------+---------+---------+-----------+----------+---------+--------------+---------------+---------------+---------------+----------------+----------------+\n",
      "\n",
      "-------------------------------------------\n",
      "Batch: 2\n",
      "-------------------------------------------\n",
      "+----+----+----+----+---+-----+------+----+-----+-----------------+---------+---------+----------+---------+----------+---------+---------+-----------+----------+---------+--------------+---------------+---------------+---------------+----------------+----------------+\n",
      "|BASE|DATE|OPEN|HIGH|LOW|CLOSE|VOLUME|YEAR|MONTH|__index_level_0__|BTC_CLOSE|ETH_CLOSE|USDT_CLOSE|BNB_CLOSE|USDC_CLOSE|XRP_CLOSE|ADA_CLOSE|MATIC_CLOSE|DOGE_CLOSE|SOL_CLOSE|SMA5_BTC_CLOSE|SMA10_BTC_CLOSE|SMA20_BTC_CLOSE|SMA50_BTC_CLOSE|SMA100_BTC_CLOSE|SMA200_BTC_CLOSE|\n",
      "+----+----+----+----+---+-----+------+----+-----+-----------------+---------+---------+----------+---------+----------+---------+---------+-----------+----------+---------+--------------+---------------+---------------+---------------+----------------+----------------+\n",
      "+----+----+----+----+---+-----+------+----+-----+-----------------+---------+---------+----------+---------+----------+---------+---------+-----------+----------+---------+--------------+---------------+---------------+---------------+----------------+----------------+\n",
      "\n"
     ]
    },
    {
     "name": "stderr",
     "output_type": "stream",
     "text": [
      "ERROR:root:KeyboardInterrupt while sending command.\n",
      "Traceback (most recent call last):\n",
      "  File \"/Users/ibulmnie/Documents/20241/BigData/crypto-big-data/spark-env/lib/python3.12/site-packages/py4j/java_gateway.py\", line 1038, in send_command\n",
      "    response = connection.send_command(command)\n",
      "               ^^^^^^^^^^^^^^^^^^^^^^^^^^^^^^^^\n",
      "  File \"/Users/ibulmnie/Documents/20241/BigData/crypto-big-data/spark-env/lib/python3.12/site-packages/py4j/clientserver.py\", line 511, in send_command\n",
      "    answer = smart_decode(self.stream.readline()[:-1])\n",
      "                          ^^^^^^^^^^^^^^^^^^^^^^\n",
      "  File \"/Library/Frameworks/Python.framework/Versions/3.12/lib/python3.12/socket.py\", line 707, in readinto\n",
      "    return self._sock.recv_into(b)\n",
      "           ^^^^^^^^^^^^^^^^^^^^^^^\n",
      "KeyboardInterrupt\n"
     ]
    },
    {
     "ename": "KeyboardInterrupt",
     "evalue": "",
     "output_type": "error",
     "traceback": [
      "\u001b[0;31m---------------------------------------------------------------------------\u001b[0m",
      "\u001b[0;31mKeyboardInterrupt\u001b[0m                         Traceback (most recent call last)",
      "Cell \u001b[0;32mIn[20], line 44\u001b[0m\n\u001b[1;32m     41\u001b[0m query \u001b[38;5;241m=\u001b[39m df\u001b[38;5;241m.\u001b[39mwriteStream\u001b[38;5;241m.\u001b[39moutputMode(\u001b[38;5;124m\"\u001b[39m\u001b[38;5;124mappend\u001b[39m\u001b[38;5;124m\"\u001b[39m)\u001b[38;5;241m.\u001b[39mformat(\u001b[38;5;124m\"\u001b[39m\u001b[38;5;124mconsole\u001b[39m\u001b[38;5;124m\"\u001b[39m)\u001b[38;5;241m.\u001b[39mstart()\n\u001b[1;32m     43\u001b[0m \u001b[38;5;66;03m# Wait for the streaming to finish\u001b[39;00m\n\u001b[0;32m---> 44\u001b[0m \u001b[43mquery\u001b[49m\u001b[38;5;241;43m.\u001b[39;49m\u001b[43mawaitTermination\u001b[49m\u001b[43m(\u001b[49m\u001b[43m)\u001b[49m\n",
      "File \u001b[0;32m~/Documents/20241/BigData/crypto-big-data/spark-env/lib/python3.12/site-packages/pyspark/sql/streaming/query.py:221\u001b[0m, in \u001b[0;36mStreamingQuery.awaitTermination\u001b[0;34m(self, timeout)\u001b[0m\n\u001b[1;32m    219\u001b[0m     \u001b[38;5;28;01mreturn\u001b[39;00m \u001b[38;5;28mself\u001b[39m\u001b[38;5;241m.\u001b[39m_jsq\u001b[38;5;241m.\u001b[39mawaitTermination(\u001b[38;5;28mint\u001b[39m(timeout \u001b[38;5;241m*\u001b[39m \u001b[38;5;241m1000\u001b[39m))\n\u001b[1;32m    220\u001b[0m \u001b[38;5;28;01melse\u001b[39;00m:\n\u001b[0;32m--> 221\u001b[0m     \u001b[38;5;28;01mreturn\u001b[39;00m \u001b[38;5;28;43mself\u001b[39;49m\u001b[38;5;241;43m.\u001b[39;49m\u001b[43m_jsq\u001b[49m\u001b[38;5;241;43m.\u001b[39;49m\u001b[43mawaitTermination\u001b[49m\u001b[43m(\u001b[49m\u001b[43m)\u001b[49m\n",
      "File \u001b[0;32m~/Documents/20241/BigData/crypto-big-data/spark-env/lib/python3.12/site-packages/py4j/java_gateway.py:1321\u001b[0m, in \u001b[0;36mJavaMember.__call__\u001b[0;34m(self, *args)\u001b[0m\n\u001b[1;32m   1314\u001b[0m args_command, temp_args \u001b[38;5;241m=\u001b[39m \u001b[38;5;28mself\u001b[39m\u001b[38;5;241m.\u001b[39m_build_args(\u001b[38;5;241m*\u001b[39margs)\n\u001b[1;32m   1316\u001b[0m command \u001b[38;5;241m=\u001b[39m proto\u001b[38;5;241m.\u001b[39mCALL_COMMAND_NAME \u001b[38;5;241m+\u001b[39m\\\n\u001b[1;32m   1317\u001b[0m     \u001b[38;5;28mself\u001b[39m\u001b[38;5;241m.\u001b[39mcommand_header \u001b[38;5;241m+\u001b[39m\\\n\u001b[1;32m   1318\u001b[0m     args_command \u001b[38;5;241m+\u001b[39m\\\n\u001b[1;32m   1319\u001b[0m     proto\u001b[38;5;241m.\u001b[39mEND_COMMAND_PART\n\u001b[0;32m-> 1321\u001b[0m answer \u001b[38;5;241m=\u001b[39m \u001b[38;5;28;43mself\u001b[39;49m\u001b[38;5;241;43m.\u001b[39;49m\u001b[43mgateway_client\u001b[49m\u001b[38;5;241;43m.\u001b[39;49m\u001b[43msend_command\u001b[49m\u001b[43m(\u001b[49m\u001b[43mcommand\u001b[49m\u001b[43m)\u001b[49m\n\u001b[1;32m   1322\u001b[0m return_value \u001b[38;5;241m=\u001b[39m get_return_value(\n\u001b[1;32m   1323\u001b[0m     answer, \u001b[38;5;28mself\u001b[39m\u001b[38;5;241m.\u001b[39mgateway_client, \u001b[38;5;28mself\u001b[39m\u001b[38;5;241m.\u001b[39mtarget_id, \u001b[38;5;28mself\u001b[39m\u001b[38;5;241m.\u001b[39mname)\n\u001b[1;32m   1325\u001b[0m \u001b[38;5;28;01mfor\u001b[39;00m temp_arg \u001b[38;5;129;01min\u001b[39;00m temp_args:\n",
      "File \u001b[0;32m~/Documents/20241/BigData/crypto-big-data/spark-env/lib/python3.12/site-packages/py4j/java_gateway.py:1038\u001b[0m, in \u001b[0;36mGatewayClient.send_command\u001b[0;34m(self, command, retry, binary)\u001b[0m\n\u001b[1;32m   1036\u001b[0m connection \u001b[38;5;241m=\u001b[39m \u001b[38;5;28mself\u001b[39m\u001b[38;5;241m.\u001b[39m_get_connection()\n\u001b[1;32m   1037\u001b[0m \u001b[38;5;28;01mtry\u001b[39;00m:\n\u001b[0;32m-> 1038\u001b[0m     response \u001b[38;5;241m=\u001b[39m \u001b[43mconnection\u001b[49m\u001b[38;5;241;43m.\u001b[39;49m\u001b[43msend_command\u001b[49m\u001b[43m(\u001b[49m\u001b[43mcommand\u001b[49m\u001b[43m)\u001b[49m\n\u001b[1;32m   1039\u001b[0m     \u001b[38;5;28;01mif\u001b[39;00m binary:\n\u001b[1;32m   1040\u001b[0m         \u001b[38;5;28;01mreturn\u001b[39;00m response, \u001b[38;5;28mself\u001b[39m\u001b[38;5;241m.\u001b[39m_create_connection_guard(connection)\n",
      "File \u001b[0;32m~/Documents/20241/BigData/crypto-big-data/spark-env/lib/python3.12/site-packages/py4j/clientserver.py:511\u001b[0m, in \u001b[0;36mClientServerConnection.send_command\u001b[0;34m(self, command)\u001b[0m\n\u001b[1;32m    509\u001b[0m \u001b[38;5;28;01mtry\u001b[39;00m:\n\u001b[1;32m    510\u001b[0m     \u001b[38;5;28;01mwhile\u001b[39;00m \u001b[38;5;28;01mTrue\u001b[39;00m:\n\u001b[0;32m--> 511\u001b[0m         answer \u001b[38;5;241m=\u001b[39m smart_decode(\u001b[38;5;28;43mself\u001b[39;49m\u001b[38;5;241;43m.\u001b[39;49m\u001b[43mstream\u001b[49m\u001b[38;5;241;43m.\u001b[39;49m\u001b[43mreadline\u001b[49m\u001b[43m(\u001b[49m\u001b[43m)\u001b[49m[:\u001b[38;5;241m-\u001b[39m\u001b[38;5;241m1\u001b[39m])\n\u001b[1;32m    512\u001b[0m         logger\u001b[38;5;241m.\u001b[39mdebug(\u001b[38;5;124m\"\u001b[39m\u001b[38;5;124mAnswer received: \u001b[39m\u001b[38;5;132;01m{0}\u001b[39;00m\u001b[38;5;124m\"\u001b[39m\u001b[38;5;241m.\u001b[39mformat(answer))\n\u001b[1;32m    513\u001b[0m         \u001b[38;5;66;03m# Happens when a the other end is dead. There might be an empty\u001b[39;00m\n\u001b[1;32m    514\u001b[0m         \u001b[38;5;66;03m# answer before the socket raises an error.\u001b[39;00m\n",
      "File \u001b[0;32m/Library/Frameworks/Python.framework/Versions/3.12/lib/python3.12/socket.py:707\u001b[0m, in \u001b[0;36mSocketIO.readinto\u001b[0;34m(self, b)\u001b[0m\n\u001b[1;32m    705\u001b[0m \u001b[38;5;28;01mwhile\u001b[39;00m \u001b[38;5;28;01mTrue\u001b[39;00m:\n\u001b[1;32m    706\u001b[0m     \u001b[38;5;28;01mtry\u001b[39;00m:\n\u001b[0;32m--> 707\u001b[0m         \u001b[38;5;28;01mreturn\u001b[39;00m \u001b[38;5;28;43mself\u001b[39;49m\u001b[38;5;241;43m.\u001b[39;49m\u001b[43m_sock\u001b[49m\u001b[38;5;241;43m.\u001b[39;49m\u001b[43mrecv_into\u001b[49m\u001b[43m(\u001b[49m\u001b[43mb\u001b[49m\u001b[43m)\u001b[49m\n\u001b[1;32m    708\u001b[0m     \u001b[38;5;28;01mexcept\u001b[39;00m timeout:\n\u001b[1;32m    709\u001b[0m         \u001b[38;5;28mself\u001b[39m\u001b[38;5;241m.\u001b[39m_timeout_occurred \u001b[38;5;241m=\u001b[39m \u001b[38;5;28;01mTrue\u001b[39;00m\n",
      "\u001b[0;31mKeyboardInterrupt\u001b[0m: "
     ]
    }
   ],
   "source": [
    "from pyspark.sql.types import StructType, StructField, StringType, FloatType\n",
    "from pyspark.sql import functions as F\n",
    "\n",
    "# Define schema\n",
    "schema = StructType([\n",
    "    StructField(\"BASE\", StringType(), True),\n",
    "    StructField(\"DATE\", StringType(), True),\n",
    "    StructField(\"OPEN\", FloatType(), True),\n",
    "    StructField(\"HIGH\", FloatType(), True),\n",
    "    StructField(\"LOW\", FloatType(), True),\n",
    "    StructField(\"CLOSE\", FloatType(), True),\n",
    "    StructField(\"VOLUME\", FloatType(), True),\n",
    "    StructField(\"YEAR\", StringType(), True),\n",
    "    StructField(\"MONTH\", StringType(), True),\n",
    "    StructField(\"__index_level_0__\", StringType(), True),\n",
    "    StructField(\"BTC_CLOSE\", FloatType(), True),\n",
    "    StructField(\"ETH_CLOSE\", FloatType(), True),\n",
    "    StructField(\"USDT_CLOSE\", FloatType(), True),\n",
    "    StructField(\"BNB_CLOSE\", FloatType(), True),\n",
    "    StructField(\"USDC_CLOSE\", FloatType(), True),\n",
    "    StructField(\"XRP_CLOSE\", FloatType(), True),\n",
    "    StructField(\"ADA_CLOSE\", FloatType(), True),\n",
    "    StructField(\"MATIC_CLOSE\", FloatType(), True),\n",
    "    StructField(\"DOGE_CLOSE\", FloatType(), True),\n",
    "    StructField(\"SOL_CLOSE\", FloatType(), True),\n",
    "    StructField(\"SMA5_BTC_CLOSE\", FloatType(), True),\n",
    "    StructField(\"SMA10_BTC_CLOSE\", FloatType(), True),\n",
    "    StructField(\"SMA20_BTC_CLOSE\", FloatType(), True),\n",
    "    StructField(\"SMA50_BTC_CLOSE\", FloatType(), True),\n",
    "    StructField(\"SMA100_BTC_CLOSE\", FloatType(), True),\n",
    "    StructField(\"SMA200_BTC_CLOSE\", FloatType(), True),\n",
    "])\n",
    "\n",
    "# Read stream with the defined schema\n",
    "df = spark.readStream.schema(schema).parquet(\"gs://indicator-crypto/sma_results/BTC_CLOSE\")\n",
    "\n",
    "# Convert the 'DATE' column to timestamp if it's a string type\n",
    "df = df.withColumn(\"DATE\", F.to_timestamp(\"DATE\", \"yyyy-MM-dd\"))\n",
    "\n",
    "# Write the stream to a sink (e.g., console, file, etc.)\n",
    "query = df.writeStream.outputMode(\"append\").format(\"console\").start()\n",
    "\n",
    "# Wait for the streaming to finish\n",
    "query.awaitTermination()\n"
   ]
  },
  {
   "cell_type": "code",
   "execution_count": null,
   "metadata": {},
   "outputs": [],
   "source": []
  }
 ],
 "metadata": {
  "kernelspec": {
   "display_name": "spark-env",
   "language": "python",
   "name": "python3"
  },
  "language_info": {
   "codemirror_mode": {
    "name": "ipython",
    "version": 3
   },
   "file_extension": ".py",
   "mimetype": "text/x-python",
   "name": "python",
   "nbconvert_exporter": "python",
   "pygments_lexer": "ipython3",
   "version": "3.12.1"
  }
 },
 "nbformat": 4,
 "nbformat_minor": 2
}
